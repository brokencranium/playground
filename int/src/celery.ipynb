{
 "cells": [
  {
   "cell_type": "markdown",
   "metadata": {
    "slideshow": {
     "slide_type": "slide"
    }
   },
   "source": [
    "![alt text](data/img/celery_512.png \"Celery\")"
   ]
  },
  {
   "cell_type": "markdown",
   "metadata": {
    "slideshow": {
     "slide_type": "subslide"
    }
   },
   "source": [
    "### What is Celery?\n",
    "* an open source asynchronous task queue/job queue based on distributed message passing\n",
    "* \"a task queue with batteries included\"\n",
    "* execution units called *tasks* are executed concurrently on one or more worker nodes\n",
    "* tasks can execute asynchronously (in the background) or synchronously (wait until ready)\n",
    "* used by Instagram to process millions of tasks every day"
   ]
  },
  {
   "cell_type": "markdown",
   "metadata": {},
   "source": [
    "# Python 3.7 warning!\n",
    "\n",
    "Celery is not yet compatible with Python 3.7 because it uses the name `async` (which is now a reserved word in Python). Therefore we will need to run our examples in Python 3.6 or earlier."
   ]
  },
  {
   "cell_type": "markdown",
   "metadata": {
    "slideshow": {
     "slide_type": "subslide"
    }
   },
   "source": [
    "### Choosing a Broker\n",
    "* Celery requires a solution to send and receive messages\n",
    "  * typically this is performed via a separate service called a *message broker*\n",
    "* there are several choices of broker available\n",
    "  * `RabbitMQ`: feature-complete, stable, durable and easy to install\n",
    "    * http://www.rabbitmq.com/install-standalone-mac.html\n",
    "  * `Redis`:  also feature-complete, but  more susceptible to data loss in the event of abrupt termination or power failures http://docs.celeryproject.org/en/latest/getting-started/brokers/redis.html#broker-redis\n",
    "  * Databases: not recommended, but can be sufficient for very small installations and testing purposes:\n",
    "    * `SQLAlchemy`: http://docs.celeryproject.org/en/latest/getting-started/brokers/sqlalchemy.html#broker-sqlalchemy\n",
    "    * `Django`: http://docs.celeryproject.org/en/latest/getting-started/brokers/django.html#broker-django\n",
    "* We'll use `RabbitMQ`, as it's very common, robust, etc.\n",
    " "
   ]
  },
  {
   "cell_type": "markdown",
   "metadata": {
    "slideshow": {
     "slide_type": "subslide"
    }
   },
   "source": [
    "### Installing Celery\n",
    "* __`pip3 install celery`__\n",
    "* to test, try __`from celery import Celery`__\n",
    "* install __`RabbitMQ`__\n",
    "  * complete installation instructions at http://www.rabbitmq.com/download.html\n",
    "  * on a Mac, it's easiest to use `Homebrew` to perform the installation http://www.rabbitmq.com/install-standalone-mac.html\n",
    "  * start server __`/usr/local/sbin/rabbitmq-server`__"
   ]
  },
  {
   "cell_type": "markdown",
   "metadata": {},
   "source": [
    "If you're using Docker, you can also do the following:\n",
    "\n",
    "```\n",
    "$ docker pull rabbitmq\n",
    "$ docker run --rm -p 5672:5672 rabbitmq\n",
    "```"
   ]
  },
  {
   "cell_type": "code",
   "execution_count": 1,
   "metadata": {},
   "outputs": [
    {
     "name": "stdout",
     "output_type": "stream",
     "text": [
      "Collecting celery\n",
      "  Using cached https://files.pythonhosted.org/packages/e8/58/2a0b1067ab2c12131b5c089dfc579467c76402475c5231095e36a43b749c/celery-4.2.1-py2.py3-none-any.whl\n",
      "Collecting pytz>dev (from celery)\n",
      "  Using cached https://files.pythonhosted.org/packages/61/28/1d3920e4d1d50b19bc5d24398a7cd85cc7b9a75a490570d5a30c57622d34/pytz-2018.9-py2.py3-none-any.whl\n",
      "Collecting billiard<3.6.0,>=3.5.0.2 (from celery)\n",
      "\u001b[?25l  Downloading https://files.pythonhosted.org/packages/8b/b7/c2fe04f2522bb02d044347734eeda3ff5c7a632fa7d0401530a371ba73db/billiard-3.5.0.5.tar.gz (150kB)\n",
      "\u001b[K    100% |████████████████████████████████| 153kB 1.3MB/s ta 0:00:01\n",
      "\u001b[?25hCollecting kombu<5.0,>=4.2.0 (from celery)\n",
      "\u001b[?25l  Downloading https://files.pythonhosted.org/packages/29/48/c709a54c8533ed46fd868e593782c6743da33614f8134b82bc0955455031/kombu-4.3.0-py2.py3-none-any.whl (183kB)\n",
      "\u001b[K    100% |████████████████████████████████| 184kB 1.3MB/s ta 0:00:01\n",
      "\u001b[?25hCollecting amqp<3.0,>=2.4.0 (from kombu<5.0,>=4.2.0->celery)\n",
      "\u001b[?25l  Downloading https://files.pythonhosted.org/packages/27/32/5c8a0d355b247446eb73f89c0fa4a22c1832764c0cc9d2bc43b9256d9366/amqp-2.4.1-py2.py3-none-any.whl (49kB)\n",
      "\u001b[K    100% |████████████████████████████████| 51kB 1.1MB/s ta 0:00:011\n",
      "\u001b[?25hCollecting vine>=1.1.3 (from amqp<3.0,>=2.4.0->kombu<5.0,>=4.2.0->celery)\n",
      "  Downloading https://files.pythonhosted.org/packages/62/dd/e30f828a39914626d67876b987d6fc47616b64de680cd0f746fc9c8aab47/vine-1.2.0-py2.py3-none-any.whl\n",
      "Installing collected packages: pytz, billiard, vine, amqp, kombu, celery\n",
      "  Running setup.py install for billiard ... \u001b[?25ldone\n",
      "\u001b[?25hSuccessfully installed amqp-2.4.1 billiard-3.5.0.5 celery-4.2.1 kombu-4.3.0 pytz-2018.9 vine-1.2.0\n",
      "\u001b[33mYou are using pip version 18.1, however version 19.0.3 is available.\n",
      "You should consider upgrading via the 'pip install --upgrade pip' command.\u001b[0m\n"
     ]
    }
   ],
   "source": [
    "!pip3 install celery"
   ]
  },
  {
   "cell_type": "code",
   "execution_count": 2,
   "metadata": {},
   "outputs": [],
   "source": [
    "import celery"
   ]
  },
  {
   "cell_type": "markdown",
   "metadata": {
    "slideshow": {
     "slide_type": "subslide"
    }
   },
   "source": [
    "### The Celery Application\n",
    "* first we need a Celery *instance*, i.e., the Celery application, or \"app\"\n",
    "* this instance is used as the entry-point for everything you want to do in Celery, e.g., creating tasks and managing workers\n",
    "  * therefore it must be possible for other modules to import it\n",
    "  * for now, we'll put everything in a single module called `tasks.py`"
   ]
  },
  {
   "cell_type": "code",
   "execution_count": 4,
   "metadata": {},
   "outputs": [
    {
     "name": "stdout",
     "output_type": "stream",
     "text": [
      "/Users/rick446/src/arborian-classes/data\n"
     ]
    }
   ],
   "source": [
    "cd data"
   ]
  },
  {
   "cell_type": "code",
   "execution_count": 3,
   "metadata": {},
   "outputs": [
    {
     "name": "stdout",
     "output_type": "stream",
     "text": [
      "Overwriting data/celery_examples/tasks.py\n"
     ]
    }
   ],
   "source": [
    "%%file \\celery_examples/tasks.py\n",
    "from celery import Celery\n",
    "\n",
    "app = Celery('tasks', broker='amqp://guest@localhost//')\n",
    "\n",
    "@app.task\n",
    "def add(x, y):\n",
    "    return x + y"
   ]
  },
  {
   "cell_type": "markdown",
   "metadata": {},
   "source": [
    "* first argument to Celery is the name of the current module–__`tasks`__–this is needed so that names can be automatically generated\n",
    "* second argument is the broker keyword argument which specifies the URL of the message broker you want to use"
   ]
  },
  {
   "cell_type": "markdown",
   "metadata": {
    "slideshow": {
     "slide_type": "subslide"
    }
   },
   "source": [
    "### Next: Running the Celery Worker Server\n",
    "* in a production system, the worker would be run in the background, e.g., as a daemon (see http://docs.celeryproject.org/en/latest/tutorials/daemonizing.html)\n",
    "  * for demonstration purposes, we'll just run it by hand in a separate window\n",
    "    * __`celery -A celery_examples.tasks worker --loglevel=info`__\n",
    "    * make sure you run it from the directory which contains `tasks.py`\n",
    "* for more information, try\n",
    "  * __`celery worker --help`__\n",
    "  * __`celery --help`__"
   ]
  },
  {
   "cell_type": "markdown",
   "metadata": {
    "slideshow": {
     "slide_type": "subslide"
    }
   },
   "source": [
    "### Calling the task\n",
    "* we will use the [__`delay()`__](http://docs.celeryproject.org/en/latest/reference/celery.app.task.html#celery.app.task.Task.delay) method to invoke the task\n",
    "* it's a shortcut for the fully-featured [__`apply_async()`__](http://docs.celeryproject.org/en/latest/reference/celery.app.task.html#celery.app.task.Task.apply_async) method"
   ]
  },
  {
   "cell_type": "code",
   "execution_count": 5,
   "metadata": {},
   "outputs": [],
   "source": [
    "from importlib import reload\n",
    "from celery_examples import tasks\n",
    "tasks = reload(tasks)"
   ]
  },
  {
   "cell_type": "code",
   "execution_count": 6,
   "metadata": {},
   "outputs": [],
   "source": [
    "r = tasks.add.delay(4, 12)\n"
   ]
  },
  {
   "cell_type": "code",
   "execution_count": 7,
   "metadata": {
    "scrolled": true
   },
   "outputs": [
    {
     "name": "stdout",
     "output_type": "stream",
     "text": [
      "d4ed937e-8f1c-450e-9601-ffc43f3ddf9f\n"
     ]
    },
    {
     "data": {
      "text/plain": [
       "(None, celery.result.AsyncResult)"
      ]
     },
     "execution_count": 7,
     "metadata": {},
     "output_type": "execute_result"
    }
   ],
   "source": [
    "print(r), type(r)"
   ]
  },
  {
   "cell_type": "code",
   "execution_count": 8,
   "metadata": {},
   "outputs": [
    {
     "ename": "NotImplementedError",
     "evalue": "No result backend is configured.\nPlease see the documentation for more information.",
     "output_type": "error",
     "traceback": [
      "\u001b[0;31m---------------------------------------------------------------------------\u001b[0m",
      "\u001b[0;31mNotImplementedError\u001b[0m                       Traceback (most recent call last)",
      "\u001b[0;32m<ipython-input-8-38c18158b1e5>\u001b[0m in \u001b[0;36m<module>\u001b[0;34m\u001b[0m\n\u001b[0;32m----> 1\u001b[0;31m \u001b[0mr\u001b[0m\u001b[0;34m.\u001b[0m\u001b[0mget\u001b[0m\u001b[0;34m(\u001b[0m\u001b[0;34m)\u001b[0m\u001b[0;34m\u001b[0m\u001b[0;34m\u001b[0m\u001b[0m\n\u001b[0m",
      "\u001b[0;32m~/.virtualenvs/intermediate-python/lib/python3.7/site-packages/celery/result.py\u001b[0m in \u001b[0;36mget\u001b[0;34m(self, timeout, propagate, interval, no_ack, follow_parents, callback, on_message, on_interval, disable_sync_subtasks, EXCEPTION_STATES, PROPAGATE_STATES)\u001b[0m\n\u001b[1;32m    222\u001b[0m             \u001b[0mpropagate\u001b[0m\u001b[0;34m=\u001b[0m\u001b[0mpropagate\u001b[0m\u001b[0;34m,\u001b[0m\u001b[0;34m\u001b[0m\u001b[0;34m\u001b[0m\u001b[0m\n\u001b[1;32m    223\u001b[0m             \u001b[0mcallback\u001b[0m\u001b[0;34m=\u001b[0m\u001b[0mcallback\u001b[0m\u001b[0;34m,\u001b[0m\u001b[0;34m\u001b[0m\u001b[0;34m\u001b[0m\u001b[0m\n\u001b[0;32m--> 224\u001b[0;31m             \u001b[0mon_message\u001b[0m\u001b[0;34m=\u001b[0m\u001b[0mon_message\u001b[0m\u001b[0;34m,\u001b[0m\u001b[0;34m\u001b[0m\u001b[0;34m\u001b[0m\u001b[0m\n\u001b[0m\u001b[1;32m    225\u001b[0m         )\n\u001b[1;32m    226\u001b[0m     \u001b[0mwait\u001b[0m \u001b[0;34m=\u001b[0m \u001b[0mget\u001b[0m  \u001b[0;31m# deprecated alias to :meth:`get`.\u001b[0m\u001b[0;34m\u001b[0m\u001b[0;34m\u001b[0m\u001b[0m\n",
      "\u001b[0;32m~/.virtualenvs/intermediate-python/lib/python3.7/site-packages/celery/backends/base.py\u001b[0m in \u001b[0;36mwait_for_pending\u001b[0;34m(self, result, timeout, interval, no_ack, on_message, on_interval, callback, propagate)\u001b[0m\n\u001b[1;32m    474\u001b[0m             \u001b[0minterval\u001b[0m\u001b[0;34m=\u001b[0m\u001b[0minterval\u001b[0m\u001b[0;34m,\u001b[0m\u001b[0;34m\u001b[0m\u001b[0;34m\u001b[0m\u001b[0m\n\u001b[1;32m    475\u001b[0m             \u001b[0mon_interval\u001b[0m\u001b[0;34m=\u001b[0m\u001b[0mon_interval\u001b[0m\u001b[0;34m,\u001b[0m\u001b[0;34m\u001b[0m\u001b[0;34m\u001b[0m\u001b[0m\n\u001b[0;32m--> 476\u001b[0;31m             \u001b[0mno_ack\u001b[0m\u001b[0;34m=\u001b[0m\u001b[0mno_ack\u001b[0m\u001b[0;34m,\u001b[0m\u001b[0;34m\u001b[0m\u001b[0;34m\u001b[0m\u001b[0m\n\u001b[0m\u001b[1;32m    477\u001b[0m         )\n\u001b[1;32m    478\u001b[0m         \u001b[0;32mif\u001b[0m \u001b[0mmeta\u001b[0m\u001b[0;34m:\u001b[0m\u001b[0;34m\u001b[0m\u001b[0;34m\u001b[0m\u001b[0m\n",
      "\u001b[0;32m~/.virtualenvs/intermediate-python/lib/python3.7/site-packages/celery/backends/base.py\u001b[0m in \u001b[0;36m_is_disabled\u001b[0;34m(self, *args, **kwargs)\u001b[0m\n\u001b[1;32m    777\u001b[0m \u001b[0;34m\u001b[0m\u001b[0m\n\u001b[1;32m    778\u001b[0m     \u001b[0;32mdef\u001b[0m \u001b[0m_is_disabled\u001b[0m\u001b[0;34m(\u001b[0m\u001b[0mself\u001b[0m\u001b[0;34m,\u001b[0m \u001b[0;34m*\u001b[0m\u001b[0margs\u001b[0m\u001b[0;34m,\u001b[0m \u001b[0;34m**\u001b[0m\u001b[0mkwargs\u001b[0m\u001b[0;34m)\u001b[0m\u001b[0;34m:\u001b[0m\u001b[0;34m\u001b[0m\u001b[0;34m\u001b[0m\u001b[0m\n\u001b[0;32m--> 779\u001b[0;31m         \u001b[0;32mraise\u001b[0m \u001b[0mNotImplementedError\u001b[0m\u001b[0;34m(\u001b[0m\u001b[0mE_NO_BACKEND\u001b[0m\u001b[0;34m.\u001b[0m\u001b[0mstrip\u001b[0m\u001b[0;34m(\u001b[0m\u001b[0;34m)\u001b[0m\u001b[0;34m)\u001b[0m\u001b[0;34m\u001b[0m\u001b[0;34m\u001b[0m\u001b[0m\n\u001b[0m\u001b[1;32m    780\u001b[0m \u001b[0;34m\u001b[0m\u001b[0m\n\u001b[1;32m    781\u001b[0m     \u001b[0;32mdef\u001b[0m \u001b[0mas_uri\u001b[0m\u001b[0;34m(\u001b[0m\u001b[0mself\u001b[0m\u001b[0;34m,\u001b[0m \u001b[0;34m*\u001b[0m\u001b[0margs\u001b[0m\u001b[0;34m,\u001b[0m \u001b[0;34m**\u001b[0m\u001b[0mkwargs\u001b[0m\u001b[0;34m)\u001b[0m\u001b[0;34m:\u001b[0m\u001b[0;34m\u001b[0m\u001b[0;34m\u001b[0m\u001b[0m\n",
      "\u001b[0;31mNotImplementedError\u001b[0m: No result backend is configured.\nPlease see the documentation for more information."
     ]
    }
   ],
   "source": [
    "r.get()"
   ]
  },
  {
   "cell_type": "code",
   "execution_count": 9,
   "metadata": {},
   "outputs": [
    {
     "name": "stdout",
     "output_type": "stream",
     "text": [
      "from celery import Celery\r\n",
      "\r\n",
      "app = Celery('tasks', broker='amqp://guest@localhost//')\r\n",
      "\r\n",
      "@app.task\r\n",
      "def add(x, y):\r\n",
      "    return x + y\r\n"
     ]
    }
   ],
   "source": [
    "cat celery_examples/tasks.py"
   ]
  },
  {
   "cell_type": "markdown",
   "metadata": {},
   "source": [
    "* as above, calling __`delay()`__ returns an `AsyncResult` instance\n",
    "  * can be used to check the state of the task, wait for the task to finish or get its return value (or if the task failed, the exception and traceback)\n",
    "  * however, this isn’t enabled by default\n",
    "    * you must configure Celery to use a *result backend*"
   ]
  },
  {
   "cell_type": "markdown",
   "metadata": {
    "slideshow": {
     "slide_type": "subslide"
    }
   },
   "source": [
    "### Keeping Results\n",
    "* if you want to keep track of the tasks’ states, Celery needs to store or send the states somewhere\n",
    "* there are several built-in result backends to choose from: `SQLAlchemy/Django ORM`, `Memcached`, `Redis`, `AMQP (RabbitMQ)`, and `MongoDB`–or you can define your own\n",
    "* we will use the `rpc` result backend, which sends states back as transient messages (but does not store them)\n",
    "* the backend is specified via the `backend` argument to Celery\n",
    "  * (or via the `CELERY_RESULT_BACKEND` setting if you choose to use a configuration module)\n",
    "* so we'll update `tasks.py` to specify the backend and then try again to see the result..."
   ]
  },
  {
   "cell_type": "code",
   "execution_count": 10,
   "metadata": {},
   "outputs": [
    {
     "name": "stdout",
     "output_type": "stream",
     "text": [
      "Overwriting celery_examples/tasks.py\n"
     ]
    }
   ],
   "source": [
    "%%file celery_examples/tasks.py\n",
    "from celery import Celery\n",
    "\n",
    "app = Celery('tasks', backend='rpc://', broker='amqp://guest@localhost')\n",
    "\n",
    "@app.task\n",
    "def add(x, y):\n",
    "    return x + y"
   ]
  },
  {
   "cell_type": "code",
   "execution_count": 11,
   "metadata": {},
   "outputs": [
    {
     "ename": "SyntaxError",
     "evalue": "invalid syntax (rpc.py, line 20)",
     "output_type": "error",
     "traceback": [
      "Traceback \u001b[0;36m(most recent call last)\u001b[0m:\n",
      "  File \u001b[1;32m\"/Users/rick446/.virtualenvs/intermediate-python/lib/python3.7/site-packages/IPython/core/interactiveshell.py\"\u001b[0m, line \u001b[1;32m3291\u001b[0m, in \u001b[1;35mrun_code\u001b[0m\n    exec(code_obj, self.user_global_ns, self.user_ns)\n",
      "  File \u001b[1;32m\"<ipython-input-11-ac6e6e479a51>\"\u001b[0m, line \u001b[1;32m4\u001b[0m, in \u001b[1;35m<module>\u001b[0m\n    result = add.delay(3.94, 5.27)\n",
      "  File \u001b[1;32m\"/Users/rick446/.virtualenvs/intermediate-python/lib/python3.7/site-packages/celery/app/task.py\"\u001b[0m, line \u001b[1;32m408\u001b[0m, in \u001b[1;35mdelay\u001b[0m\n    return self.apply_async(args, kwargs)\n",
      "  File \u001b[1;32m\"/Users/rick446/.virtualenvs/intermediate-python/lib/python3.7/site-packages/celery/app/task.py\"\u001b[0m, line \u001b[1;32m535\u001b[0m, in \u001b[1;35mapply_async\u001b[0m\n    **options\n",
      "  File \u001b[1;32m\"/Users/rick446/.virtualenvs/intermediate-python/lib/python3.7/site-packages/celery/app/base.py\"\u001b[0m, line \u001b[1;32m744\u001b[0m, in \u001b[1;35msend_task\u001b[0m\n    self.backend.on_task_call(P, task_id)\n",
      "  File \u001b[1;32m\"/Users/rick446/.virtualenvs/intermediate-python/lib/python3.7/site-packages/kombu/utils/objects.py\"\u001b[0m, line \u001b[1;32m44\u001b[0m, in \u001b[1;35m__get__\u001b[0m\n    value = obj.__dict__[self.__name__] = self.__get(obj)\n",
      "  File \u001b[1;32m\"/Users/rick446/.virtualenvs/intermediate-python/lib/python3.7/site-packages/celery/app/base.py\"\u001b[0m, line \u001b[1;32m1196\u001b[0m, in \u001b[1;35mbackend\u001b[0m\n    return self._get_backend()\n",
      "  File \u001b[1;32m\"/Users/rick446/.virtualenvs/intermediate-python/lib/python3.7/site-packages/celery/app/base.py\"\u001b[0m, line \u001b[1;32m914\u001b[0m, in \u001b[1;35m_get_backend\u001b[0m\n    self.loader)\n",
      "  File \u001b[1;32m\"/Users/rick446/.virtualenvs/intermediate-python/lib/python3.7/site-packages/celery/app/backends.py\"\u001b[0m, line \u001b[1;32m70\u001b[0m, in \u001b[1;35mby_url\u001b[0m\n    return by_name(backend, loader), url\n",
      "  File \u001b[1;32m\"/Users/rick446/.virtualenvs/intermediate-python/lib/python3.7/site-packages/celery/app/backends.py\"\u001b[0m, line \u001b[1;32m50\u001b[0m, in \u001b[1;35mby_name\u001b[0m\n    cls = symbol_by_name(backend, aliases)\n",
      "  File \u001b[1;32m\"/Users/rick446/.virtualenvs/intermediate-python/lib/python3.7/site-packages/kombu/utils/imports.py\"\u001b[0m, line \u001b[1;32m56\u001b[0m, in \u001b[1;35msymbol_by_name\u001b[0m\n    module = imp(module_name, package=package, **kwargs)\n",
      "  File \u001b[1;32m\"/usr/local/Cellar/python/3.7.2/Frameworks/Python.framework/Versions/3.7/lib/python3.7/importlib/__init__.py\"\u001b[0m, line \u001b[1;32m127\u001b[0m, in \u001b[1;35mimport_module\u001b[0m\n    return _bootstrap._gcd_import(name[level:], package, level)\n",
      "  File \u001b[1;32m\"<frozen importlib._bootstrap>\"\u001b[0m, line \u001b[1;32m1006\u001b[0m, in \u001b[1;35m_gcd_import\u001b[0m\n",
      "  File \u001b[1;32m\"<frozen importlib._bootstrap>\"\u001b[0m, line \u001b[1;32m983\u001b[0m, in \u001b[1;35m_find_and_load\u001b[0m\n",
      "  File \u001b[1;32m\"<frozen importlib._bootstrap>\"\u001b[0m, line \u001b[1;32m967\u001b[0m, in \u001b[1;35m_find_and_load_unlocked\u001b[0m\n",
      "  File \u001b[1;32m\"<frozen importlib._bootstrap>\"\u001b[0m, line \u001b[1;32m677\u001b[0m, in \u001b[1;35m_load_unlocked\u001b[0m\n",
      "  File \u001b[1;32m\"<frozen importlib._bootstrap_external>\"\u001b[0m, line \u001b[1;32m724\u001b[0m, in \u001b[1;35mexec_module\u001b[0m\n",
      "  File \u001b[1;32m\"<frozen importlib._bootstrap_external>\"\u001b[0m, line \u001b[1;32m860\u001b[0m, in \u001b[1;35mget_code\u001b[0m\n",
      "  File \u001b[1;32m\"<frozen importlib._bootstrap_external>\"\u001b[0m, line \u001b[1;32m791\u001b[0m, in \u001b[1;35msource_to_code\u001b[0m\n",
      "\u001b[0;36m  File \u001b[0;32m\"<frozen importlib._bootstrap>\"\u001b[0;36m, line \u001b[0;32m219\u001b[0;36m, in \u001b[0;35m_call_with_frames_removed\u001b[0;36m\u001b[0m\n",
      "\u001b[0;36m  File \u001b[0;32m\"/Users/rick446/.virtualenvs/intermediate-python/lib/python3.7/site-packages/celery/backends/rpc.py\"\u001b[0;36m, line \u001b[0;32m20\u001b[0m\n\u001b[0;31m    from .async import AsyncBackendMixin, BaseResultConsumer\u001b[0m\n\u001b[0m              ^\u001b[0m\n\u001b[0;31mSyntaxError\u001b[0m\u001b[0;31m:\u001b[0m invalid syntax\n"
     ]
    }
   ],
   "source": [
    "# before we excute this, we must restart the Celery worker\n",
    "tasks = reload(tasks)\n",
    "from celery_examples.tasks import add\n",
    "result = add.delay(3.94, 5.27)\n",
    "result"
   ]
  },
  {
   "cell_type": "code",
   "execution_count": null,
   "metadata": {},
   "outputs": [],
   "source": [
    "result.ready()"
   ]
  },
  {
   "cell_type": "code",
   "execution_count": null,
   "metadata": {},
   "outputs": [],
   "source": [
    "result.get(timeout=1)"
   ]
  },
  {
   "cell_type": "markdown",
   "metadata": {},
   "source": [
    "### What if the task raises an exception?\n",
    "* __`get()`__ will re-raise the exception (unless you tell it not to)\n",
    "* let's try an example..."
   ]
  },
  {
   "cell_type": "code",
   "execution_count": null,
   "metadata": {},
   "outputs": [],
   "source": [
    "%%file celery_examples/tasks.py\n",
    "from celery import Celery\n",
    "\n",
    "app = Celery('tasks', backend='rpc://', broker='amqp://guest@localhost')\n",
    "\n",
    "@app.task\n",
    "def add(x, y):\n",
    "    return x + y\n",
    "\n",
    "@app.task\n",
    "def exc():\n",
    "    raise ValueError"
   ]
  },
  {
   "cell_type": "code",
   "execution_count": null,
   "metadata": {},
   "outputs": [],
   "source": [
    "tasks = reload(tasks)\n",
    "from celery_examples.tasks import exc\n",
    "\n",
    "result = exc.delay()\n",
    "result.get()\n"
   ]
  },
  {
   "cell_type": "code",
   "execution_count": null,
   "metadata": {},
   "outputs": [],
   "source": [
    "from celery_examples.tasks import exc\n",
    "\n",
    "try:\n",
    "    result = exc.delay()\n",
    "    result.get()\n",
    "except Exception as err:\n",
    "    print('Task threw an exception: %r' % err)"
   ]
  },
  {
   "cell_type": "markdown",
   "metadata": {},
   "source": [
    "# Lab\n",
    "\n",
    "Open the [Celery Lab][celery-lab]\n",
    "\n",
    "[celery-lab]: ./celery-lab.ipynb"
   ]
  }
 ],
 "metadata": {
  "kernelspec": {
   "display_name": "Python 3",
   "language": "python",
   "name": "python3"
  },
  "language_info": {
   "codemirror_mode": {
    "name": "ipython",
    "version": 3
   },
   "file_extension": ".py",
   "mimetype": "text/x-python",
   "name": "python",
   "nbconvert_exporter": "python",
   "pygments_lexer": "ipython3",
   "version": "3.7.2"
  }
 },
 "nbformat": 4,
 "nbformat_minor": 1
}

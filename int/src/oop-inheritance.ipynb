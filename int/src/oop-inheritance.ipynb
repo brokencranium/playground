{
 "cells": [
  {
   "cell_type": "markdown",
   "metadata": {},
   "source": [
    "# Object-Oriented Inheritance\n",
    "\n",
    "A key concept of OOP in Python and other languages is the notion of inheritance, also known as subclassing or subtyping. Consider modeling Animals:"
   ]
  },
  {
   "cell_type": "code",
   "execution_count": 1,
   "metadata": {},
   "outputs": [],
   "source": [
    "class Animal():\n",
    "\n",
    "    def __init__(self, name):\n",
    "        self._name = name\n",
    "        \n",
    "    def speak(self, message):\n",
    "        print(f'{self._name} the {type(self).__name__} says \"{message}\"')\n",
    "        \n",
    "    def get_number_of_legs(self):\n",
    "        raise NotImplementedError"
   ]
  },
  {
   "cell_type": "code",
   "execution_count": 2,
   "metadata": {},
   "outputs": [],
   "source": [
    "animal = Animal('Generic')"
   ]
  },
  {
   "cell_type": "code",
   "execution_count": 3,
   "metadata": {},
   "outputs": [
    {
     "name": "stdout",
     "output_type": "stream",
     "text": [
      "Generic the Animal says \"Can I really speak?\"\n"
     ]
    }
   ],
   "source": [
    "animal.speak('Can I really speak?')"
   ]
  },
  {
   "cell_type": "code",
   "execution_count": 4,
   "metadata": {},
   "outputs": [
    {
     "ename": "NotImplementedError",
     "evalue": "",
     "output_type": "error",
     "traceback": [
      "\u001b[0;31m---------------------------------------------------------------------------\u001b[0m",
      "\u001b[0;31mNotImplementedError\u001b[0m                       Traceback (most recent call last)",
      "\u001b[0;32m<ipython-input-4-11b354c125e8>\u001b[0m in \u001b[0;36m<module>\u001b[0;34m\u001b[0m\n\u001b[0;32m----> 1\u001b[0;31m \u001b[0manimal\u001b[0m\u001b[0;34m.\u001b[0m\u001b[0mget_number_of_legs\u001b[0m\u001b[0;34m(\u001b[0m\u001b[0;34m)\u001b[0m\u001b[0;34m\u001b[0m\u001b[0;34m\u001b[0m\u001b[0m\n\u001b[0m",
      "\u001b[0;32m<ipython-input-1-63ccafaad903>\u001b[0m in \u001b[0;36mget_number_of_legs\u001b[0;34m(self)\u001b[0m\n\u001b[1;32m      8\u001b[0m \u001b[0;34m\u001b[0m\u001b[0m\n\u001b[1;32m      9\u001b[0m     \u001b[0;32mdef\u001b[0m \u001b[0mget_number_of_legs\u001b[0m\u001b[0;34m(\u001b[0m\u001b[0mself\u001b[0m\u001b[0;34m)\u001b[0m\u001b[0;34m:\u001b[0m\u001b[0;34m\u001b[0m\u001b[0;34m\u001b[0m\u001b[0m\n\u001b[0;32m---> 10\u001b[0;31m         \u001b[0;32mraise\u001b[0m \u001b[0mNotImplementedError\u001b[0m\u001b[0;34m\u001b[0m\u001b[0;34m\u001b[0m\u001b[0m\n\u001b[0m",
      "\u001b[0;31mNotImplementedError\u001b[0m: "
     ]
    }
   ],
   "source": [
    "animal.get_number_of_legs()"
   ]
  },
  {
   "cell_type": "markdown",
   "metadata": {},
   "source": [
    "We might want to create some more specific `class`es that \"know\" how many legs they have. We do this by **overriding** the implementation of the `get_number_of_legs` method:"
   ]
  },
  {
   "cell_type": "code",
   "execution_count": 5,
   "metadata": {},
   "outputs": [],
   "source": [
    "class Biped(Animal):\n",
    "    \n",
    "    def get_number_of_legs(self):\n",
    "        return 2\n",
    "\n",
    "    \n",
    "class Quadruped(Animal):\n",
    "    \n",
    "    def get_number_of_legs(self):\n",
    "        return 4    "
   ]
  },
  {
   "cell_type": "code",
   "execution_count": 6,
   "metadata": {},
   "outputs": [],
   "source": [
    "monkey = Biped('George')\n",
    "dog = Quadruped('Fido')"
   ]
  },
  {
   "cell_type": "code",
   "execution_count": 7,
   "metadata": {},
   "outputs": [
    {
     "name": "stdout",
     "output_type": "stream",
     "text": [
      "George the Biped says \"hello\"\n"
     ]
    }
   ],
   "source": [
    "monkey.speak('hello')"
   ]
  },
  {
   "cell_type": "code",
   "execution_count": 8,
   "metadata": {},
   "outputs": [
    {
     "name": "stdout",
     "output_type": "stream",
     "text": [
      "Fido the Quadruped says \"hello\"\n"
     ]
    }
   ],
   "source": [
    "dog.speak('hello')"
   ]
  },
  {
   "cell_type": "code",
   "execution_count": 9,
   "metadata": {},
   "outputs": [
    {
     "data": {
      "text/plain": [
       "2"
      ]
     },
     "execution_count": 9,
     "metadata": {},
     "output_type": "execute_result"
    }
   ],
   "source": [
    "monkey.get_number_of_legs()"
   ]
  },
  {
   "cell_type": "code",
   "execution_count": 10,
   "metadata": {},
   "outputs": [
    {
     "data": {
      "text/plain": [
       "4"
      ]
     },
     "execution_count": 10,
     "metadata": {},
     "output_type": "execute_result"
    }
   ],
   "source": [
    "dog.get_number_of_legs()"
   ]
  },
  {
   "cell_type": "markdown",
   "metadata": {},
   "source": [
    "We can further specialize our classes. In this case, we'll provide a default name for instances of the `Monkey` and `Dog` class, and then **delegate** to the base class (\"superclass\") implementation of `__init__`:"
   ]
  },
  {
   "cell_type": "code",
   "execution_count": 15,
   "metadata": {},
   "outputs": [],
   "source": [
    "class Monkey(Biped):\n",
    "    \n",
    "    def __init__(self, name='George'):\n",
    "        super().__init__(name)\n",
    "        \n",
    "\n",
    "class Dog(Quadruped):\n",
    "    \n",
    "    def __init__(self, name='Fido'):\n",
    "        super().__init__(name)"
   ]
  },
  {
   "cell_type": "code",
   "execution_count": 12,
   "metadata": {},
   "outputs": [
    {
     "name": "stdout",
     "output_type": "stream",
     "text": [
      "George the Monkey says \"Hello there, I have 2 legs\"\n",
      "Fido the Dog says \"Hello there, I have 4 legs\"\n"
     ]
    }
   ],
   "source": [
    "animals = [Monkey(), Dog()]\n",
    "\n",
    "for a in animals:\n",
    "    a.speak(f'Hello there, I have {a.get_number_of_legs()} legs')"
   ]
  },
  {
   "cell_type": "markdown",
   "metadata": {},
   "source": [
    "# Python attribute lookup\n",
    "\n",
    "Assume we have this code:\n",
    "\n",
    "```python\n",
    "foo = Dog()\n",
    "```\n",
    "\n",
    "When you use the syntax `foo.bar`, what does Python actually _do_?\n",
    "\n",
    "1. Examine the **instance** foo to see if has an instance attribute named `bar`. If it does, return it.\n",
    "1. Examine the the **class** of foo (in this case, `Dog`) to see if it has an attribute named `bar`. If it does, return it.\n",
    "1. Using the *method resolution order* (MRO) of Dog, examine the superclasses (a.k.a. base classes, ancestor classes, etc.) of Dog to see if any of them have an attribute named `bar`, returning the value if it does\n",
    "1. Upon exhausting the MRO, without finding the name, raise `AttributeError`\n",
    "\n",
    "This happens on all attribute lookups (i.e. reading a dotted name, or using the builtin function `getattr()`), including method lookups. "
   ]
  },
  {
   "cell_type": "code",
   "execution_count": 13,
   "metadata": {},
   "outputs": [
    {
     "data": {
      "text/plain": [
       "[__main__.Monkey, __main__.Biped, __main__.Animal, object]"
      ]
     },
     "execution_count": 13,
     "metadata": {},
     "output_type": "execute_result"
    }
   ],
   "source": [
    "Monkey.mro()"
   ]
  },
  {
   "cell_type": "code",
   "execution_count": 14,
   "metadata": {},
   "outputs": [
    {
     "data": {
      "text/plain": [
       "[__main__.Dog, __main__.Quadruped, __main__.Animal, object]"
      ]
     },
     "execution_count": 14,
     "metadata": {},
     "output_type": "execute_result"
    }
   ],
   "source": [
    "Dog.mro()"
   ]
  },
  {
   "cell_type": "markdown",
   "metadata": {},
   "source": [
    "## Multiple Inheritance\n",
    "\n",
    "The MRO if a class in a single-inheritance situation is just a linear search. If we use multiple inheritance, the situation is a bit more complex. This is because it's a desirable property to have each base class appear *only once* in the MRO:"
   ]
  },
  {
   "cell_type": "code",
   "execution_count": 16,
   "metadata": {},
   "outputs": [],
   "source": [
    "class MonkeyDog(Monkey, Dog):\n",
    "    pass\n",
    "\n",
    "class DogMonkey(Dog, Monkey):\n",
    "    pass"
   ]
  },
  {
   "cell_type": "code",
   "execution_count": 17,
   "metadata": {},
   "outputs": [],
   "source": [
    "weird = [MonkeyDog(), DogMonkey()]"
   ]
  },
  {
   "cell_type": "code",
   "execution_count": 18,
   "metadata": {},
   "outputs": [
    {
     "name": "stdout",
     "output_type": "stream",
     "text": [
      "George the MonkeyDog says \"Hello there, I have 2 legs\"\n",
      "Fido the DogMonkey says \"Hello there, I have 4 legs\"\n"
     ]
    }
   ],
   "source": [
    "for a in weird:\n",
    "    a.speak(f'Hello there, I have {a.get_number_of_legs()} legs')    "
   ]
  },
  {
   "cell_type": "code",
   "execution_count": 19,
   "metadata": {},
   "outputs": [
    {
     "data": {
      "text/plain": [
       "[__main__.MonkeyDog,\n",
       " __main__.Monkey,\n",
       " __main__.Biped,\n",
       " __main__.Dog,\n",
       " __main__.Quadruped,\n",
       " __main__.Animal,\n",
       " object]"
      ]
     },
     "execution_count": 19,
     "metadata": {},
     "output_type": "execute_result"
    }
   ],
   "source": [
    "MonkeyDog.mro()"
   ]
  },
  {
   "cell_type": "code",
   "execution_count": 20,
   "metadata": {},
   "outputs": [
    {
     "data": {
      "text/plain": [
       "[__main__.DogMonkey,\n",
       " __main__.Dog,\n",
       " __main__.Quadruped,\n",
       " __main__.Monkey,\n",
       " __main__.Biped,\n",
       " __main__.Animal,\n",
       " object]"
      ]
     },
     "execution_count": 20,
     "metadata": {},
     "output_type": "execute_result"
    }
   ],
   "source": [
    "DogMonkey.mro()"
   ]
  },
  {
   "cell_type": "markdown",
   "metadata": {},
   "source": [
    "### Multiple inheritance and `super()`\n",
    "\n",
    "`super()` also obeys the MRO of the class when finding the superclass, so things can sometimes get confusing:"
   ]
  },
  {
   "cell_type": "code",
   "execution_count": 23,
   "metadata": {},
   "outputs": [],
   "source": [
    "class Animal():\n",
    "\n",
    "    def __init__(self, name):\n",
    "        self._name = name\n",
    "        \n",
    "    def speak(self, message):\n",
    "        print(f'{self._name} the {type(self).__name__} says \"{message}\"')\n",
    "        \n",
    "    def get_number_of_legs(self):\n",
    "        raise NotImplementedError\n",
    "        \n",
    "    def illustrate(self):\n",
    "        print('In Animal.illustrate')\n",
    "        \n",
    "        \n",
    "class Biped(Animal):\n",
    "    \n",
    "    def get_number_of_legs(self):\n",
    "        return 2\n",
    "\n",
    "    def illustrate(self):\n",
    "        print('In Biped.illustrate, delegating to super')\n",
    "        super().illustrate()\n",
    "        \n",
    "\n",
    "    \n",
    "class Quadruped(Animal):\n",
    "    \n",
    "    def get_number_of_legs(self):\n",
    "        return 4 \n",
    "\n",
    "    def illustrate(self):\n",
    "        print('In Quadruped.illustrate, delegating to super')\n",
    "        super().illustrate()\n",
    "    \n",
    "\n",
    "class Monkey(Biped):\n",
    "    \n",
    "    def __init__(self, name='George'):\n",
    "        super().__init__(name)\n",
    "\n",
    "    def illustrate(self):\n",
    "        print('In Monkey.illustrate, delegating to super')\n",
    "        super().illustrate()\n",
    "        \n",
    "\n",
    "class Dog(Quadruped):\n",
    "    \n",
    "    def __init__(self, name='Fido'):\n",
    "        super().__init__(name)\n",
    "\n",
    "    def illustrate(self):\n",
    "        print('In Dog.illustrate, delegating to super')\n",
    "        super().illustrate()\n",
    "        \n",
    "        \n",
    "class MonkeyDog(Monkey, Dog):\n",
    "    \n",
    "    def illustrate(self):\n",
    "        print('In MonkeyDog.illustrate, delegating to super')\n",
    "        super().illustrate()\n",
    "\n",
    "\n",
    "class DogMonkey(Dog, Monkey):\n",
    "\n",
    "    def illustrate(self):\n",
    "        print('In DogMonkey.illustrate, delegating to super')\n",
    "        super().illustrate()"
   ]
  },
  {
   "cell_type": "code",
   "execution_count": 24,
   "metadata": {},
   "outputs": [],
   "source": [
    "md = MonkeyDog()\n",
    "dm = DogMonkey()"
   ]
  },
  {
   "cell_type": "code",
   "execution_count": 25,
   "metadata": {},
   "outputs": [
    {
     "name": "stdout",
     "output_type": "stream",
     "text": [
      "In MonkeyDog.illustrate, delegating to super\n",
      "In Monkey.illustrate, delegating to super\n",
      "In Biped.illustrate, delegating to super\n",
      "In Dog.illustrate, delegating to super\n",
      "In Quadruped.illustrate, delegating to super\n",
      "In Animal.illustrate\n"
     ]
    }
   ],
   "source": [
    "md.illustrate()"
   ]
  },
  {
   "cell_type": "code",
   "execution_count": 26,
   "metadata": {},
   "outputs": [
    {
     "name": "stdout",
     "output_type": "stream",
     "text": [
      "In DogMonkey.illustrate, delegating to super\n",
      "In Dog.illustrate, delegating to super\n",
      "In Quadruped.illustrate, delegating to super\n",
      "In Monkey.illustrate, delegating to super\n",
      "In Biped.illustrate, delegating to super\n",
      "In Animal.illustrate\n"
     ]
    }
   ],
   "source": [
    "dm.illustrate()"
   ]
  },
  {
   "cell_type": "markdown",
   "metadata": {},
   "source": [
    "# Lab\n",
    "\n",
    "Open [OOP inheritance lab][oop-inheritance-lab]\n",
    "\n",
    "[oop-inheritance-lab]: ./oop-inheritance-lab.ipynb"
   ]
  }
 ],
 "metadata": {
  "kernelspec": {
   "display_name": "Python 3",
   "language": "python",
   "name": "python3"
  },
  "language_info": {
   "codemirror_mode": {
    "name": "ipython",
    "version": 3
   },
   "file_extension": ".py",
   "mimetype": "text/x-python",
   "name": "python",
   "nbconvert_exporter": "python",
   "pygments_lexer": "ipython3",
   "version": "3.7.2"
  }
 },
 "nbformat": 4,
 "nbformat_minor": 2
}

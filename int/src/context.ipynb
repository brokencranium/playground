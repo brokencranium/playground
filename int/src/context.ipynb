{
 "cells": [
  {
   "cell_type": "markdown",
   "metadata": {},
   "source": [
    "# Context Managers"
   ]
  },
  {
   "cell_type": "code",
   "execution_count": 1,
   "metadata": {},
   "outputs": [
    {
     "name": "stdout",
     "output_type": "stream",
     "text": [
      "##\n",
      "# Host Database\n",
      "#\n",
      "# localhost is used to configure the loopback interface\n",
      "# when the system is booting.  Do not change this entry.\n",
      "##\n",
      "127.0.0.1\tlocalhost localhost.carefol.io\n",
      "255.255.255.255\tbroadcasthost\n",
      "::1             localhost\n",
      "fe80::1%lo0\tlocalhost\n",
      "# 192.168.11.3\taragorn\n",
      "# 208.113.226.104 www.ricksresources.com\n",
      "127.0.0.1\teht_cf-web_1 eht_sso-web_1 eht_blob-web_1 eht_pcc-gw-web_1\n",
      "\n",
      "<_io.TextIOWrapper name='/etc/hosts' mode='r' encoding='UTF-8'>\n"
     ]
    }
   ],
   "source": [
    "with open('/etc/hosts') as fp:\n",
    "    print(fp.read())\n",
    "print(fp)"
   ]
  },
  {
   "cell_type": "code",
   "execution_count": 2,
   "metadata": {},
   "outputs": [
    {
     "data": {
      "text/plain": [
       "True"
      ]
     },
     "execution_count": 2,
     "metadata": {},
     "output_type": "execute_result"
    }
   ],
   "source": [
    "fp.closed"
   ]
  },
  {
   "cell_type": "code",
   "execution_count": 3,
   "metadata": {},
   "outputs": [
    {
     "name": "stdout",
     "output_type": "stream",
     "text": [
      "handle keyerror\n",
      "True\n"
     ]
    }
   ],
   "source": [
    "try:\n",
    "    with open('/etc/hosts') as fp:\n",
    "        raise KeyError\n",
    "        print(fp.read())\n",
    "except KeyError:\n",
    "    print('handle keyerror')\n",
    "\n",
    "print(fp.closed)"
   ]
  },
  {
   "cell_type": "code",
   "execution_count": 4,
   "metadata": {},
   "outputs": [],
   "source": [
    "with open('/etc/hosts') as fp_i, open('/tmp/hosts', 'w') as fp_o:\n",
    "    fp_o.write(fp_i.read())"
   ]
  },
  {
   "cell_type": "code",
   "execution_count": 5,
   "metadata": {},
   "outputs": [
    {
     "name": "stdout",
     "output_type": "stream",
     "text": [
      "##\n",
      "# Host Database\n",
      "#\n",
      "# localhost is used to configure the loopback interface\n",
      "# when the system is booting.  Do not change this entry.\n",
      "##\n",
      "127.0.0.1\tlocalhost localhost.carefol.io\n",
      "255.255.255.255\tbroadcasthost\n",
      "::1             localhost\n",
      "fe80::1%lo0\tlocalhost\n",
      "# 192.168.11.3\taragorn\n",
      "# 208.113.226.104 www.ricksresources.com\n",
      "127.0.0.1\teht_cf-web_1 eht_sso-web_1 eht_blob-web_1 eht_pcc-gw-web_1\n",
      "\n"
     ]
    }
   ],
   "source": [
    "with open('/tmp/hosts') as fp:\n",
    "    print(fp.read())"
   ]
  },
  {
   "cell_type": "markdown",
   "metadata": {},
   "source": [
    "## Context manager protocol"
   ]
  },
  {
   "cell_type": "code",
   "execution_count": 6,
   "metadata": {},
   "outputs": [],
   "source": [
    "class CM(object):\n",
    "    def __enter__(self):\n",
    "        print('Entering CM')\n",
    "        return self\n",
    "    def __exit__(self, ex_type, ex_val, ex_tb):\n",
    "        print('Exiting CM')\n",
    "        if ex_type == KeyError: \n",
    "            # Re-raise same exception\n",
    "            return False\n",
    "        # Don't re-raise\n",
    "        print('Swallowing %s inside CM' % ex_type)\n",
    "        return True"
   ]
  },
  {
   "cell_type": "code",
   "execution_count": 7,
   "metadata": {},
   "outputs": [
    {
     "name": "stdout",
     "output_type": "stream",
     "text": [
      "Entering CM\n",
      "Inside with statement <__main__.CM object at 0x1086eb588>\n",
      "Exiting CM\n",
      "Swallowing None inside CM\n"
     ]
    }
   ],
   "source": [
    "with CM() as cm:\n",
    "    print('Inside with statement', cm)"
   ]
  },
  {
   "cell_type": "code",
   "execution_count": 8,
   "metadata": {},
   "outputs": [
    {
     "name": "stdout",
     "output_type": "stream",
     "text": [
      "Entering CM\n",
      "About to raise KeyError\n",
      "Exiting CM\n",
      "Catching KeyError outside CM\n"
     ]
    }
   ],
   "source": [
    "try:\n",
    "    with CM():\n",
    "        print('About to raise KeyError')\n",
    "        raise KeyError\n",
    "except KeyError:\n",
    "    print('Catching KeyError outside CM')"
   ]
  },
  {
   "cell_type": "code",
   "execution_count": 9,
   "metadata": {},
   "outputs": [
    {
     "name": "stdout",
     "output_type": "stream",
     "text": [
      "Entering CM\n",
      "About to raise ValueError\n",
      "Exiting CM\n",
      "Swallowing <class 'ValueError'> inside CM\n"
     ]
    }
   ],
   "source": [
    "with CM():\n",
    "    print('About to raise ValueError')\n",
    "    raise ValueError"
   ]
  },
  {
   "cell_type": "markdown",
   "metadata": {},
   "source": [
    "## Contextlib"
   ]
  },
  {
   "cell_type": "code",
   "execution_count": 11,
   "metadata": {},
   "outputs": [],
   "source": [
    "import contextlib"
   ]
  },
  {
   "cell_type": "code",
   "execution_count": 12,
   "metadata": {},
   "outputs": [],
   "source": [
    "@contextlib.contextmanager\n",
    "def so_much_easier():\n",
    "    print('Entering block')\n",
    "    try:\n",
    "        yield # optional \"as\" value here\n",
    "        print('Exiting block cleanly')\n",
    "    except:\n",
    "        print('Exiting block with exception')"
   ]
  },
  {
   "cell_type": "code",
   "execution_count": 13,
   "metadata": {},
   "outputs": [
    {
     "name": "stdout",
     "output_type": "stream",
     "text": [
      "Entering block\n",
      "Inside block None\n",
      "Exiting block cleanly\n"
     ]
    }
   ],
   "source": [
    "with so_much_easier() as as_value:    \n",
    "    print('Inside block', as_value)"
   ]
  },
  {
   "cell_type": "code",
   "execution_count": 14,
   "metadata": {},
   "outputs": [
    {
     "name": "stdout",
     "output_type": "stream",
     "text": [
      "Entering block\n",
      "Raising ValueError\n",
      "Exiting block with exception\n"
     ]
    }
   ],
   "source": [
    "with so_much_easier():\n",
    "    print('Raising ValueError')\n",
    "    raise ValueError"
   ]
  },
  {
   "cell_type": "markdown",
   "metadata": {},
   "source": [
    "(mostly obsolete) \n",
    "\n",
    "`contextlib` also provides a facility to support the `with` statement with context manager-like\n",
    "objects that don't actually support the protocol, but *do* have a `close()` method:"
   ]
  },
  {
   "cell_type": "code",
   "execution_count": 15,
   "metadata": {},
   "outputs": [],
   "source": [
    "class MyClass(object):\n",
    "    def __init__(self):\n",
    "        print('Perform some resource acquisition')\n",
    "    def close(self):\n",
    "        print('Close the resource')"
   ]
  },
  {
   "cell_type": "code",
   "execution_count": 16,
   "metadata": {},
   "outputs": [
    {
     "name": "stdout",
     "output_type": "stream",
     "text": [
      "Perform some resource acquisition\n",
      "myobj is <__main__.MyClass object at 0x10870f780>\n",
      "Close the resource\n"
     ]
    }
   ],
   "source": [
    "with contextlib.closing(MyClass()) as myobj:\n",
    "    print('myobj is', myobj)"
   ]
  },
  {
   "cell_type": "code",
   "execution_count": 17,
   "metadata": {},
   "outputs": [
    {
     "name": "stdout",
     "output_type": "stream",
     "text": [
      "Perform some resource acquisition\n",
      "raising ValueError\n",
      "Close the resource\n",
      "handling exception\n"
     ]
    }
   ],
   "source": [
    "try:\n",
    "    with contextlib.closing(MyClass()) as myobj:\n",
    "        print('raising ValueError')\n",
    "        raise ValueError\n",
    "except:\n",
    "    print('handling exception')\n",
    "        "
   ]
  },
  {
   "cell_type": "markdown",
   "metadata": {},
   "source": [
    "# Lab\n",
    "\n",
    "Open [Context Managers Lab][context-lab]\n",
    "\n",
    "[context-lab]: ./context-lab.ipynb"
   ]
  }
 ],
 "metadata": {
  "kernelspec": {
   "display_name": "Python 3",
   "language": "python",
   "name": "python3"
  },
  "language_info": {
   "codemirror_mode": {
    "name": "ipython",
    "version": 3
   },
   "file_extension": ".py",
   "mimetype": "text/x-python",
   "name": "python",
   "nbconvert_exporter": "python",
   "pygments_lexer": "ipython3",
   "version": "3.7.2"
  }
 },
 "nbformat": 4,
 "nbformat_minor": 1
}

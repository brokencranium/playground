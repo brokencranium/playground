{
 "cells": [
  {
   "cell_type": "markdown",
   "metadata": {},
   "source": [
    "# Introduction to Object-Oriented Programming\n",
    "\n",
    "Up until now, we've been doing things inline in our notebooks or creating functions that we call later.\n",
    "\n",
    "Object-Oriented Programming is a style of programming that lets us encapsulate functions together with the data they operate on. "
   ]
  },
  {
   "cell_type": "markdown",
   "metadata": {},
   "source": [
    "To create our new encapsulated objects, we use Python's `class` statement to create a custom, user-defined `type`. In this case, we're going to create a directory that maps hostnames to IP addresses."
   ]
  },
  {
   "cell_type": "code",
   "execution_count": 30,
   "metadata": {},
   "outputs": [],
   "source": [
    "class Directory():\n",
    "    \"\"\"Keep a mapping of hosts to addresses.\"\"\"\n",
    "    \n",
    "    def __init__(self):\n",
    "        self.hosts = {}\n",
    "        \n",
    "    def add_mapping(self, name, address):\n",
    "        if name not in self.hosts:\n",
    "            self.hosts[name] = set()\n",
    "        self.hosts[name].add(address)\n",
    "        \n",
    "    def remove_mapping(self, name, address):\n",
    "        if name in self.hosts:\n",
    "            self.hosts[name].discard(address)\n",
    "            \n",
    "    def resolve(self, name):\n",
    "        if name in self.hosts:\n",
    "            return self.hosts[name]\n",
    "        else:\n",
    "            return 'NXDOMAIN'"
   ]
  },
  {
   "cell_type": "markdown",
   "metadata": {},
   "source": [
    "## Using a class\n",
    "\n",
    "To use the class, we must first create an **instance** of the class. We do this by \"calling\" the class as if it were a function:"
   ]
  },
  {
   "cell_type": "code",
   "execution_count": 32,
   "metadata": {},
   "outputs": [],
   "source": [
    "d0 = Directory()\n",
    "d0.add_mapping('swim', '192.168.0.1')\n",
    "d0.add_mapping('swim', '192.168.0.2')\n",
    "d0.add_mapping('bike', '192.168.0.3')\n",
    "d0.add_mapping('bike', '192.168.0.4')\n",
    "d0.add_mapping('run', '192.168.0.5')"
   ]
  },
  {
   "cell_type": "code",
   "execution_count": 33,
   "metadata": {},
   "outputs": [
    {
     "data": {
      "text/plain": [
       "{'192.168.0.1', '192.168.0.2'}"
      ]
     },
     "execution_count": 33,
     "metadata": {},
     "output_type": "execute_result"
    }
   ],
   "source": [
    "d0.resolve('swim')"
   ]
  },
  {
   "cell_type": "code",
   "execution_count": 34,
   "metadata": {},
   "outputs": [
    {
     "data": {
      "text/plain": [
       "{'swim': {'192.168.0.1', '192.168.0.2'},\n",
       " 'bike': {'192.168.0.3', '192.168.0.4'},\n",
       " 'run': {'192.168.0.5'}}"
      ]
     },
     "execution_count": 34,
     "metadata": {},
     "output_type": "execute_result"
    }
   ],
   "source": [
    "d0.hosts"
   ]
  },
  {
   "cell_type": "markdown",
   "metadata": {},
   "source": [
    "## Anatomy of a class definition:\n",
    "\n",
    "Let's look at the class definition in more detail:"
   ]
  },
  {
   "cell_type": "markdown",
   "metadata": {},
   "source": [
    "```python\n",
    "class Directory():\n",
    "```\n",
    "\n",
    "This snippet says we're defining a new type called `Directory`. We aren't creating a specialization / extension of an existing type, so the parens `()` are empty (they can also be omitted). If we were specializing an existing type, we would put the type that we are extending inside the parens."
   ]
  },
  {
   "cell_type": "markdown",
   "metadata": {},
   "source": [
    "```python\n",
    "    \"\"\"Keep a mapping of hosts to addresses.\"\"\"\n",
    "```\n",
    "\n",
    "This is a *docstring*. It doesn't get used at execution time, but provides documentation for users of our class:"
   ]
  },
  {
   "cell_type": "code",
   "execution_count": null,
   "metadata": {},
   "outputs": [],
   "source": [
    "help(Directory)"
   ]
  },
  {
   "cell_type": "markdown",
   "metadata": {},
   "source": [
    "Next, we have our first **method** (function attached to a class):\n",
    "\n",
    "```python\n",
    "    def __init__(self):\n",
    "        self.hosts = {}\n",
    "```\n",
    "\n",
    "Here, we define the class *initializer*. This sets up any *attributes* that we want to be available when we're using a particular *instance* of the class. In this case, the only attribute we're interested in is the `hosts` dict.\n",
    "\n",
    "Note that in Python, unlike other languages such as Ruby, Java, Javascript, or C++, you *must* be explicit about the name of the instance variable. The Python convention is to call this parameter `self`, though the language does not enforce that."
   ]
  },
  {
   "cell_type": "markdown",
   "metadata": {},
   "source": [
    "Our next method defines the actual functionality of the class:\n",
    "    \n",
    "```python\n",
    "    def add_mapping(self, name, address):\n",
    "        if name not in self.hosts:\n",
    "            self.hosts[name] = set()\n",
    "        self.hosts[name].add(address)\n",
    "        \n",
    "```"
   ]
  },
  {
   "cell_type": "markdown",
   "metadata": {},
   "source": [
    "## Common \"magic\" methods\n",
    "\n",
    "You may have noticed the strange naming convention of the initializer `__init__`. Leading and trailing double underscores (pronounced \"dunder\") are used to mark a method as 'magic', meaning that it typically gets called *implicitly* by the Python interpreter rather than being called directly. \n",
    "\n",
    "While there are [many][magic-methods] different magic methods, the following are used most frequently:\n",
    "\n",
    "- `__init__` gets called automatically called when creating an instance of the class. \n",
    "- `__repr__` gets called automatically by the `repr()` built-in function or when showing the 'representation' of an instance\n",
    "- `__str__` gets called automatcially by the `str()` built-in function or when `print()`ing an instance\n",
    "\n",
    "[magic-methods]: https://docs.python.org/3/reference/datamodel.html#special-method-names"
   ]
  },
  {
   "cell_type": "code",
   "execution_count": 39,
   "metadata": {},
   "outputs": [
    {
     "name": "stdout",
     "output_type": "stream",
     "text": [
      "<__main__.Directory object at 0x1034441d0>\n"
     ]
    }
   ],
   "source": [
    "print(d0)"
   ]
  },
  {
   "cell_type": "code",
   "execution_count": 40,
   "metadata": {},
   "outputs": [
    {
     "data": {
      "text/plain": [
       "<__main__.Directory at 0x1034441d0>"
      ]
     },
     "execution_count": 40,
     "metadata": {},
     "output_type": "execute_result"
    }
   ],
   "source": [
    "d0"
   ]
  },
  {
   "cell_type": "markdown",
   "metadata": {},
   "source": [
    "Let's add a `__repr__`:"
   ]
  },
  {
   "cell_type": "code",
   "execution_count": 41,
   "metadata": {},
   "outputs": [],
   "source": [
    "class Directory():\n",
    "    \"\"\"Keep a mapping of hosts to addresses.\"\"\"\n",
    "    \n",
    "    def __init__(self):\n",
    "        self.hosts = {}\n",
    "        \n",
    "    def __repr__(self):\n",
    "        return f'<Directory of {len(self.hosts)} hosts>'\n",
    "        \n",
    "    def add_mapping(self, name, address):\n",
    "        if name not in self.hosts:\n",
    "            self.hosts[name] = set()\n",
    "        self.hosts[name].add(address)\n",
    "        \n",
    "    def remove_mapping(self, name, address):\n",
    "        if name in self.hosts:\n",
    "            self.hosts[name].discard(address)\n",
    "            \n",
    "    def resolve(self, name):\n",
    "        if name in self.hosts:\n",
    "            return self.hosts[name]\n",
    "        else:\n",
    "            return 'NXDOMAIN'"
   ]
  },
  {
   "cell_type": "code",
   "execution_count": 42,
   "metadata": {},
   "outputs": [
    {
     "data": {
      "text/plain": [
       "<__main__.Directory at 0x1034441d0>"
      ]
     },
     "execution_count": 42,
     "metadata": {},
     "output_type": "execute_result"
    }
   ],
   "source": [
    "d0   # d0 is an instance of our *previously defined* Directory"
   ]
  },
  {
   "cell_type": "code",
   "execution_count": 43,
   "metadata": {},
   "outputs": [],
   "source": [
    "d0 = Directory()"
   ]
  },
  {
   "cell_type": "code",
   "execution_count": 44,
   "metadata": {},
   "outputs": [
    {
     "data": {
      "text/plain": [
       "<Directory of 0 hosts>"
      ]
     },
     "execution_count": 44,
     "metadata": {},
     "output_type": "execute_result"
    }
   ],
   "source": [
    "d0"
   ]
  },
  {
   "cell_type": "code",
   "execution_count": 45,
   "metadata": {},
   "outputs": [],
   "source": [
    "d0.add_mapping('swim', '192.168.0.1')\n",
    "d0.add_mapping('swim', '192.168.0.2')\n",
    "d0.add_mapping('bike', '192.168.0.3')\n",
    "d0.add_mapping('bike', '192.168.0.4')\n",
    "d0.add_mapping('run', '192.168.0.5')"
   ]
  },
  {
   "cell_type": "code",
   "execution_count": 48,
   "metadata": {},
   "outputs": [
    {
     "data": {
      "text/plain": [
       "<Directory of 3 hosts>"
      ]
     },
     "execution_count": 48,
     "metadata": {},
     "output_type": "execute_result"
    }
   ],
   "source": [
    "d0"
   ]
  },
  {
   "cell_type": "markdown",
   "metadata": {},
   "source": [
    "If we have no `__str__`, Python will just use the `__repr__`, which is often good enough:"
   ]
  },
  {
   "cell_type": "code",
   "execution_count": 49,
   "metadata": {},
   "outputs": [
    {
     "name": "stdout",
     "output_type": "stream",
     "text": [
      "<Directory of 3 hosts>\n"
     ]
    }
   ],
   "source": [
    "print(d0)"
   ]
  },
  {
   "cell_type": "markdown",
   "metadata": {},
   "source": [
    "We can customize the `__str__` if we want:"
   ]
  },
  {
   "cell_type": "code",
   "execution_count": 50,
   "metadata": {},
   "outputs": [],
   "source": [
    "class Directory():\n",
    "    \"\"\"Keep a mapping of hosts to addresses.\"\"\"\n",
    "    \n",
    "    def __init__(self):\n",
    "        self.hosts = {}\n",
    "        \n",
    "    def __repr__(self):\n",
    "        return f'<Directory of {len(self.hosts)} hosts>'\n",
    "        \n",
    "    def __str__(self):\n",
    "        lines = [f'Directory of {len(self.hosts)} hosts']\n",
    "        for host, addresses in self.hosts.items():\n",
    "            lines.append(f' - {host} => {addresses}')\n",
    "        return '\\n'.join(lines)\n",
    "        \n",
    "    def add_mapping(self, name, address):\n",
    "        if name not in self.hosts:\n",
    "            self.hosts[name] = set()\n",
    "        self.hosts[name].add(address)\n",
    "        \n",
    "    def remove_mapping(self, name, address):\n",
    "        if name in self.hosts:\n",
    "            self.hosts[name].discard(address)\n",
    "            \n",
    "    def resolve(self, name):\n",
    "        if name in self.hosts:\n",
    "            return self.hosts[name]\n",
    "        else:\n",
    "            return 'NXDOMAIN'"
   ]
  },
  {
   "cell_type": "code",
   "execution_count": 51,
   "metadata": {},
   "outputs": [],
   "source": [
    "d0 = Directory()\n",
    "d0.add_mapping('swim', '192.168.0.1')\n",
    "d0.add_mapping('swim', '192.168.0.2')\n",
    "d0.add_mapping('bike', '192.168.0.3')\n",
    "d0.add_mapping('bike', '192.168.0.4')\n",
    "d0.add_mapping('run', '192.168.0.5')"
   ]
  },
  {
   "cell_type": "code",
   "execution_count": 52,
   "metadata": {},
   "outputs": [
    {
     "data": {
      "text/plain": [
       "<Directory of 3 hosts>"
      ]
     },
     "execution_count": 52,
     "metadata": {},
     "output_type": "execute_result"
    }
   ],
   "source": [
    "d0"
   ]
  },
  {
   "cell_type": "code",
   "execution_count": 53,
   "metadata": {},
   "outputs": [
    {
     "name": "stdout",
     "output_type": "stream",
     "text": [
      "Directory of 3 hosts\n",
      " - swim => {'192.168.0.2', '192.168.0.1'}\n",
      " - bike => {'192.168.0.3', '192.168.0.4'}\n",
      " - run => {'192.168.0.5'}\n"
     ]
    }
   ],
   "source": [
    "print(d0)"
   ]
  },
  {
   "cell_type": "markdown",
   "metadata": {},
   "source": [
    "# \"Private\" variables\n",
    "\n",
    "Most of the time, we may not want to expose our attributes to the users of the class. \n",
    "\n",
    "The convention in Python is to use a single leading underscore to indicate that this attribute is not part of the \"public\" interface of the class:"
   ]
  },
  {
   "cell_type": "code",
   "execution_count": 54,
   "metadata": {},
   "outputs": [],
   "source": [
    "class Directory():\n",
    "    \"\"\"Keep a mapping of hosts to addresses.\"\"\"\n",
    "    \n",
    "    def __init__(self):\n",
    "        self._hosts = {}\n",
    "        \n",
    "    def __repr__(self):\n",
    "        return f'<Directory of {len(self._hosts)} hosts>'\n",
    "        \n",
    "    def __str__(self):\n",
    "        lines = [f'Directory of {len(self._hosts)} hosts']\n",
    "        for host, addresses in self._hosts.items():\n",
    "            lines.append(f' - {host} => {addresses}')\n",
    "        return '\\n'.join(lines)\n",
    "        \n",
    "    def add_mapping(self, name, address):\n",
    "        if name not in self._hosts:\n",
    "            self._hosts[name] = set()\n",
    "        self._hosts[name].add(address)\n",
    "        \n",
    "    def remove_mapping(self, name, address):\n",
    "        if name in self._hosts:\n",
    "            self._hosts[name].discard(address)\n",
    "            \n",
    "    def resolve(self, name):\n",
    "        if name in self._hosts:\n",
    "            return self._hosts[name]\n",
    "        else:\n",
    "            return 'NXDOMAIN'"
   ]
  },
  {
   "cell_type": "markdown",
   "metadata": {},
   "source": [
    "It's not *really* private, though:"
   ]
  },
  {
   "cell_type": "code",
   "execution_count": 55,
   "metadata": {},
   "outputs": [
    {
     "data": {
      "text/plain": [
       "{}"
      ]
     },
     "execution_count": 55,
     "metadata": {},
     "output_type": "execute_result"
    }
   ],
   "source": [
    "d0 = Directory()\n",
    "d0._hosts"
   ]
  },
  {
   "cell_type": "markdown",
   "metadata": {},
   "source": [
    "Occasionally you'll see code which uses **two** leading underscores to make an attribute \"private\":"
   ]
  },
  {
   "cell_type": "code",
   "execution_count": 56,
   "metadata": {},
   "outputs": [],
   "source": [
    "class Directory():\n",
    "    \"\"\"Keep a mapping of hosts to addresses.\"\"\"\n",
    "    \n",
    "    def __init__(self):\n",
    "        self.__hosts = {}\n",
    "        \n",
    "    def __repr__(self):\n",
    "        return f'<Directory of {len(self.__hosts)} hosts>'\n",
    "        \n",
    "    def __str__(self):\n",
    "        lines = [f'Directory of {len(self.__hosts)} hosts']\n",
    "        for host, addresses in self.__hosts.items():\n",
    "            lines.append(f' - {host} => {addresses}')\n",
    "        return '\\n'.join(lines)\n",
    "        \n",
    "    def add_mapping(self, name, address):\n",
    "        if name not in self.__hosts:\n",
    "            self._hosts[name] = set()\n",
    "        self.__hosts[name].add(address)\n",
    "        \n",
    "    def remove_mapping(self, name, address):\n",
    "        if name in self.__hosts:\n",
    "            self.__hosts[name].discard(address)\n",
    "            \n",
    "    def resolve(self, name):\n",
    "        if name in self.__hosts:\n",
    "            return self.__hosts[name]\n",
    "        else:\n",
    "            return 'NXDOMAIN'"
   ]
  },
  {
   "cell_type": "code",
   "execution_count": 57,
   "metadata": {},
   "outputs": [
    {
     "ename": "AttributeError",
     "evalue": "'Directory' object has no attribute '__hosts'",
     "output_type": "error",
     "traceback": [
      "\u001b[0;31m---------------------------------------------------------------------------\u001b[0m",
      "\u001b[0;31mAttributeError\u001b[0m                            Traceback (most recent call last)",
      "\u001b[0;32m<ipython-input-57-06a09755a87e>\u001b[0m in \u001b[0;36m<module>\u001b[0;34m\u001b[0m\n\u001b[1;32m      1\u001b[0m \u001b[0md0\u001b[0m \u001b[0;34m=\u001b[0m \u001b[0mDirectory\u001b[0m\u001b[0;34m(\u001b[0m\u001b[0;34m)\u001b[0m\u001b[0;34m\u001b[0m\u001b[0;34m\u001b[0m\u001b[0m\n\u001b[0;32m----> 2\u001b[0;31m \u001b[0md0\u001b[0m\u001b[0;34m.\u001b[0m\u001b[0m__hosts\u001b[0m\u001b[0;34m\u001b[0m\u001b[0;34m\u001b[0m\u001b[0m\n\u001b[0m",
      "\u001b[0;31mAttributeError\u001b[0m: 'Directory' object has no attribute '__hosts'"
     ]
    }
   ],
   "source": [
    "d0 = Directory()\n",
    "d0.__hosts"
   ]
  },
  {
   "cell_type": "code",
   "execution_count": 58,
   "metadata": {},
   "outputs": [
    {
     "data": {
      "text/plain": [
       "{}"
      ]
     },
     "execution_count": 58,
     "metadata": {},
     "output_type": "execute_result"
    }
   ],
   "source": [
    "d0._Directory__hosts"
   ]
  },
  {
   "cell_type": "code",
   "execution_count": 59,
   "metadata": {},
   "outputs": [
    {
     "data": {
      "text/plain": [
       "{'_Directory__hosts': {}}"
      ]
     },
     "execution_count": 59,
     "metadata": {},
     "output_type": "execute_result"
    }
   ],
   "source": [
    "d0.__dict__"
   ]
  },
  {
   "cell_type": "markdown",
   "metadata": {},
   "source": [
    "# Lab\n",
    "\n",
    "Open [OOP Intro lab][oop-intro-lab]\n",
    "\n",
    "[oop-intro-lab]: ./oop-intro-lab.ipynb"
   ]
  }
 ],
 "metadata": {
  "kernelspec": {
   "display_name": "Python 3",
   "language": "python",
   "name": "python3"
  },
  "language_info": {
   "codemirror_mode": {
    "name": "ipython",
    "version": 3
   },
   "file_extension": ".py",
   "mimetype": "text/x-python",
   "name": "python",
   "nbconvert_exporter": "python",
   "pygments_lexer": "ipython3",
   "version": "3.7.2"
  }
 },
 "nbformat": 4,
 "nbformat_minor": 2
}

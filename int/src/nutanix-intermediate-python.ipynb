{
 "cells": [
  {
   "cell_type": "markdown",
   "metadata": {},
   "source": [
    "# While we are waiting\n",
    "\n",
    "- Ensure you register your attendance on the sign-in sheet\n",
    "- Download the [courseware][courseware] from **http://bit.ly/intermediate-python**\n",
    "- Ensure you have completed the [setup instructions][setup]\n",
    "\n",
    "[setup]: ./Setup-Pip.html\n",
    "[courseware]: http://bit.ly/intermediate-python"
   ]
  },
  {
   "cell_type": "markdown",
   "metadata": {},
   "source": [
    "# Intermediate Python\n",
    "\n",
    "Rick Copeland<br/>\n",
    "rick@arborian.com<br/>\n",
    "\n",
    "Schedule\n",
    "\n",
    "| Begin   | End     |                            |\n",
    "|---------|---------|----------------------------|\n",
    "| 9:30am  | 11:40am | Training: Lecture and labs |\n",
    "| 11:40am | 11:55am | Tea break                  |\n",
    "| 11:55am | 1:00pm  | Training: Lecture and labs |\n",
    "| 1:00pm  | 1:45pm  | Lunch break                |\n",
    "| 1:45pm  | 3:30pm  | Training: Lecture and labs |\n",
    "| 3:30pm  | 3:45pm  | Tea break                  |\n",
    "| 3:45pm  | 5:30pm  | Training: lecture and labs |\n"
   ]
  },
  {
   "cell_type": "markdown",
   "metadata": {},
   "source": [
    "# About You and Me\n",
    "* What is your job title/what do you do?\n",
    "* Python experience? Other languages?\n",
    "* What do you want to get out of the course? (Particular topics?)"
   ]
  },
  {
   "cell_type": "markdown",
   "metadata": {},
   "source": [
    "# (rough) Course Outline and Schedule\n",
    "\n",
    "## Day 1\n",
    "\n",
    "- [Jupyter, briefly][jupyter]\n",
    "- [Core Python Review (core syntax, data types)][core-syntax]\n",
    "- [Advanced Data Types][advanced-data-types]\n",
    "- [Virtual Environments][virtualenv]\n",
    "- [Functional Programming][functional]\n",
    "- [Closures and Decorators][closures]\n",
    "\n",
    "## Day 2\n",
    "\n",
    "- Object-Oriented Programming\n",
    "  - [Introduction][oop-intro]\n",
    "  - [Inheritance][oop-inheritance]\n",
    "  - [Magic Methods][oop-magic]\n",
    "  - [OOP Decorators][oop-decorators]\n",
    "- [Iteratables, Iterators, and Generators][iteration]\n",
    "- [Context Managers][context]\n",
    "- [Logging][logging]\n",
    "- [Testing in Python][testing]\n",
    "- [Debugging with PDB][pdb]\n",
    "- [Concurrency in Python: Multithreading and Multiprocessing][multithreading-multiprocessing]\n",
    "\n",
    "## Day 3\n",
    "\n",
    "- [Introduction to Celery][celery]\n",
    "- [Using APIs][requests]\n",
    "- [Using Sockets for lower-level network services][socket]\n",
    "- Building [APIs][flask-api] and [web UIs][flask-ui] with Flask\n",
    "- [NumPy][numpy] and [SciPy][scipy] for Numerical and Scientific Processing\n",
    "- [Pandas and Data Integration][pandas]\n",
    "\n",
    "[jupyter]: ./jupyter.ipynb\n",
    "[core-syntax]: ./core-syntax.ipynb\n",
    "[advanced-data-types]: ./advanced-data-types.ipynb\n",
    "[virtualenv]: ./virtualenv.ipynb\n",
    "[functional]: ./functional.ipynb\n",
    "[closures]: ./closures.ipynb\n",
    "[oop-intro]: ./oop-intro.ipynb\n",
    "[oop-inheritance]: ./oop-inheritance.ipynb\n",
    "[oop-magic]: ./oop-magic.ipynb\n",
    "[oop-decorators]: ./oop-decorators.ipynb\n",
    "[iteration]: ./iteration.ipynb\n",
    "[context]: ./context.ipynb\n",
    "[logging]: ./logging.ipynb\n",
    "[testing]: ./unittest.ipynb\n",
    "[multithreading-multiprocessing]: ./multithreading-multiprocessing.ipynb\n",
    "[pdb]: ./pdb.ipynb\n",
    "[celery]: ./celery.ipynb\n",
    "[requests]: ./requests.ipynb\n",
    "[socket]: ./socket.ipynb\n",
    "[flask-api]: ./flask-api.ipynb\n",
    "[flask-ui]: ./flask-ui.ipynb\n",
    "[numpy]: ./numpy.ipynb\n",
    "[scipy]: ./scipy.ipynb\n",
    "[pandas]: ./pandas.ipynb\n"
   ]
  },
  {
   "cell_type": "code",
   "execution_count": null,
   "metadata": {},
   "outputs": [],
   "source": []
  }
 ],
 "metadata": {
  "kernelspec": {
   "display_name": "Python 3",
   "language": "python",
   "name": "python3"
  },
  "language_info": {
   "codemirror_mode": {
    "name": "ipython",
    "version": 3
   },
   "file_extension": ".py",
   "mimetype": "text/x-python",
   "name": "python",
   "nbconvert_exporter": "python",
   "pygments_lexer": "ipython3",
   "version": "3.7.2"
  }
 },
 "nbformat": 4,
 "nbformat_minor": 2
}

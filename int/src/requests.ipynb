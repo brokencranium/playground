{
 "cells": [
  {
   "cell_type": "markdown",
   "metadata": {
    "slideshow": {
     "slide_type": "slide"
    }
   },
   "source": [
    "# APIs and the Requests Library\n",
    "\n",
    "- What's a web API?\n",
    "- What does REST mean?\n",
    "- Introduction to Python's Requests library\n",
    "- Work with APIs to pass and pull data into python programs"
   ]
  },
  {
   "cell_type": "markdown",
   "metadata": {
    "slideshow": {
     "slide_type": "slide"
    }
   },
   "source": [
    "# Questions you'll be able to answer after this module\n",
    "\n",
    "\n",
    " - What is a REST API?\n",
    " - What is HATEOS, and why is it important?\n",
    " - How does the HTTP request/response cycle work?\n",
    " - What are the HTTP verbs, and how do they work?\n",
    " - How can we map create-read-update-delete (CRUD) operations onto the HTTP verbs?\n",
    " - What are some common HTTP response codes and what do they mean?"
   ]
  },
  {
   "cell_type": "markdown",
   "metadata": {
    "slideshow": {
     "slide_type": "slide"
    }
   },
   "source": [
    "# What is REST, anyway?\n",
    "\n",
    "**Re**presentational **S**tate **T**ransfer, from Roy Fielding's Thesis: https://www.ics.uci.edu/~fielding/pubs/dissertation/rest_arch_style.htm\n",
    "\n",
    " - Architectural style that embraces the basic technologies of the web (HTTP and hyptertext)\n",
    " - *Not* a specification like SOAP, XMLRPC, or others\n"
   ]
  },
  {
   "cell_type": "markdown",
   "metadata": {
    "slideshow": {
     "slide_type": "slide"
    }
   },
   "source": [
    "## Main characteristics of REST\n",
    "\n",
    " - There are some abstract _resources_ that you wish to expose to the web\n",
    " - Those _resources_ have one or more _representations_ (HTML, JSON, and XML are common)\n",
    " - Resources are unambiguously identified by a _resource identifier_ (URL)\n",
    " - _Hypermedia_ is used to link resources to one another using their URLs"
   ]
  },
  {
   "cell_type": "markdown",
   "metadata": {
    "slideshow": {
     "slide_type": "slide"
    }
   },
   "source": [
    "# HATEOAS\n",
    "\n",
    "**H**ypertext **a**s **t**he **e**ngine **o**f **a**pplication **s**tate\n",
    "\n",
    " - Applications can use the API without any prior knowledge of its URL structure\n",
    " - All resources are located using URLs that are present in other resources\n",
    " - There is an initial URL / resource from which you can discover all other URLs / resources in the API\n",
    " - Your client code and your server code can evolve independently"
   ]
  },
  {
   "cell_type": "markdown",
   "metadata": {
    "slideshow": {
     "slide_type": "slide"
    }
   },
   "source": [
    "# REST and HTTP\n",
    "\n",
    "(**H**yper**t**ext **t**ransfer **p**rotocol, for those who were wondering)\n",
    "\n",
    "The web, as it's used by web browsers and random folks, is more or less a REST API.\n",
    "\n",
    " - You use a small number of entry points\n",
    " - All resources are fetched using URLs, usually by following a link in another resource\n",
    " - Your browser negotiates the exact representation of each resource, but generally fetches HTML and images"
   ]
  },
  {
   "cell_type": "markdown",
   "metadata": {
    "slideshow": {
     "slide_type": "slide"
    }
   },
   "source": [
    "# HTTP Overview: The request\n",
    "\n",
    "At a conceptual level, HTTP is just a series of requests and responses. An HTTP request consists of:\n",
    "\n",
    " - The request line (e.g. `GET / HTTP/1.1`)\n",
    "   - Verb: `GET`\n",
    "   - URL: `/`\n",
    "   - HTTP version: `HTTP/1.1`\n",
    " - Headers for metadata about the request (e.g. `Host: www.cnn.com` or `Authorization: basic foobarbaz`)\n",
    " - (sometimes) a body containing a representation"
   ]
  },
  {
   "cell_type": "markdown",
   "metadata": {
    "slideshow": {
     "slide_type": "slide"
    }
   },
   "source": [
    "# HTTP Overview: The verbs\n",
    "\n",
    " - GET - retrieve a resource by URL\n",
    " - PUT - replace a resource at a given URL with the content of this request\n",
    " - DELETE - delete the resource at this URL\n",
    " - POST - do something else\n",
    " - PATCH (proposed but not yet standard) - update the resource at a given URL with the content of this request"
   ]
  },
  {
   "cell_type": "markdown",
   "metadata": {
    "slideshow": {
     "slide_type": "slide"
    }
   },
   "source": [
    "# HTTP Overview: The verbs\n",
    "\n",
    "- Safe: does it leave the resource unmodified?\n",
    "- Idempotent: if you issue the request a single time, is the resource the same as if you issue the request multiple times?\n",
    "- Body: does the request include a resource representation in the body?\n",
    "\n",
    "\n",
    "| Verb   | Safe? | Idempotent? | Body? |\n",
    "|--------|-------|-------------|-------|\n",
    "| GET    | yes   | yes         | no    |\n",
    "| PUT    | no    | yes         | yes   |\n",
    "| POST   | no    | no          | yes   |\n",
    "| DELETE | no    | yes         | no    |\n",
    "| PATCH  | no    | no          | yes   |"
   ]
  },
  {
   "cell_type": "markdown",
   "metadata": {
    "slideshow": {
     "slide_type": "slide"
    }
   },
   "source": [
    "# JSON: Javascript Object Notation\n",
    "\n",
    "```\n",
    "{\"JSON\": {\n",
    "    \"can_contain\": {\n",
    "        \"integers\": 3, \n",
    "        \"floating_point\": 3.14,\n",
    "        \"strings\": \"foobar\",\n",
    "        \"boolean\": [true, false],\n",
    "        \"arrays\": [],\n",
    "        \"sub-objects\": {},\n",
    "        \"null\": null\n",
    "    }\n",
    "}}\n",
    "```"
   ]
  },
  {
   "cell_type": "code",
   "execution_count": 1,
   "metadata": {},
   "outputs": [],
   "source": [
    "import json\n",
    "s='''{\"JSON\": {\n",
    "    \"can_contain\": {\n",
    "        \"integers\": 3, \n",
    "        \"floating_point\": 3.14,\n",
    "        \"strings\": \"foobar\",\n",
    "        \"boolean\": [true, false],\n",
    "        \"arrays\": [],\n",
    "        \"sub-objects\": {},\n",
    "        \"null\": null\n",
    "    }\n",
    "}}\n",
    "'''"
   ]
  },
  {
   "cell_type": "code",
   "execution_count": 2,
   "metadata": {},
   "outputs": [
    {
     "data": {
      "text/plain": [
       "{'JSON': {'can_contain': {'integers': 3,\n",
       "   'floating_point': 3.14,\n",
       "   'strings': 'foobar',\n",
       "   'boolean': [True, False],\n",
       "   'arrays': [],\n",
       "   'sub-objects': {},\n",
       "   'null': None}}}"
      ]
     },
     "execution_count": 2,
     "metadata": {},
     "output_type": "execute_result"
    }
   ],
   "source": [
    "json.loads(s)"
   ]
  },
  {
   "cell_type": "code",
   "execution_count": 3,
   "metadata": {},
   "outputs": [
    {
     "data": {
      "text/plain": [
       "{'foo': 'bar'}"
      ]
     },
     "execution_count": 3,
     "metadata": {},
     "output_type": "execute_result"
    }
   ],
   "source": [
    "json.loads(json.dumps({'foo': 'bar'}))"
   ]
  },
  {
   "cell_type": "markdown",
   "metadata": {
    "slideshow": {
     "slide_type": "slide"
    }
   },
   "source": [
    "# One more acronym: CRUD\n",
    "\n",
    "**C**reate, **R**ead, **U**pdate, **D**elete: how we deal with data\n",
    "\n",
    "A common pattern, and one we'll use in the REST APIs we create, is to map CRUD onto the HTTP verbs as follows:\n",
    "\n",
    "| CRUD   | HTTP        |\n",
    "|--------|-------------|\n",
    "| Create | POST        |\n",
    "| Read   | GET         |\n",
    "| Update | PUT / PATCH |\n",
    "| Delete | DELETE      |"
   ]
  },
  {
   "cell_type": "markdown",
   "metadata": {
    "slideshow": {
     "slide_type": "slide"
    }
   },
   "source": [
    "# HTTP Overview: The response\n",
    "\n",
    " - The response line (e.g. `HTTP/1.1 200 OK`)\n",
    "   - HTTP Version: `HTTP/1.1`\n",
    "   - Response code: `200 OK`\n",
    " - Headers (e.g. `Cache-Control: max-age=60`)\n",
    " - (sometimes) a body containing a representation\n"
   ]
  },
  {
   "cell_type": "markdown",
   "metadata": {
    "slideshow": {
     "slide_type": "slide"
    }
   },
   "source": [
    "# HTTP Overview: Response Codes\n",
    "\n",
    "There are a lot of them. Below are the more common ones you'll use/see.\n",
    "\n",
    " - 1xx - Informational - you won't need to worry much about these\n",
    " - 2xx - Everything's OK!\n",
    "   - 200 OK\n",
    "   - 201 Created\n",
    "   - 202 Accepted\n",
    "   - 204 No Content\n",
    " - 3xx - Redirection\n",
    "   - 301 Moved Permanently\n",
    "   - 302 Found ('temporary redirect')\n",
    "   - 303 See Other (another 'temporary redirect' -- this one is \"more correct\" than 302)\n"
   ]
  },
  {
   "cell_type": "markdown",
   "metadata": {
    "slideshow": {
     "slide_type": "slide"
    }
   },
   "source": [
    "# HTTP Overview: Response Codes (error)\n",
    "\n",
    " - 4xx - There was a problem with the *client*\n",
    "   - 400 Bad Request\n",
    "   - 401 Unauthorized\n",
    "   - 403 Forbidden\n",
    "   - 404 Not Found\n",
    "   - 405 Method Not Allowed\n",
    "   - 409 Conflict\n",
    "   - 410 Gone\n",
    " - 5xx - There was a problem with the *server*\n",
    "   - 500 Internal Server Error\n",
    "   - 502 Bad Gateway\n",
    "   - 503 Service Unavailable\n",
    "   - 504 Gateway Timeout"
   ]
  },
  {
   "cell_type": "markdown",
   "metadata": {},
   "source": [
    "# HTTP/1.1 418 I'm a teapot\n",
    "\n",
    "https://tools.ietf.org/html/rfc2324#section-2.3.2"
   ]
  },
  {
   "cell_type": "markdown",
   "metadata": {
    "slideshow": {
     "slide_type": "slide"
    }
   },
   "source": [
    "# Introducing Requests\n",
    "\n",
    "> HTTP for Humans\n",
    "\n",
    "```\n",
    ">>> r = requests.get('https://api.github.com/user', auth=('user', 'pass'))\n",
    ">>> r.status_code\n",
    "200\n",
    ">>> r.headers['content-type']\n",
    "'application/json; charset=utf8'\n",
    ">>> r.encoding\n",
    "'utf-8'\n",
    ">>> r.text\n",
    "u'{\"type\":\"User\"...'\n",
    ">>> r.json()\n",
    "{u'private_gists': 419, u'total_private_repos': 77, ...}\n",
    "```"
   ]
  },
  {
   "cell_type": "code",
   "execution_count": 5,
   "metadata": {},
   "outputs": [
    {
     "name": "stdout",
     "output_type": "stream",
     "text": [
      "Collecting requests\n",
      "  Using cached https://files.pythonhosted.org/packages/7d/e3/20f3d364d6c8e5d2353c72a67778eb189176f08e873c9900e10c0287b84b/requests-2.21.0-py2.py3-none-any.whl\n",
      "Requirement already satisfied, skipping upgrade: urllib3<1.25,>=1.21.1 in /Users/rick446/.virtualenvs/python-sysadmins/lib/python3.7/site-packages (from requests) (1.24.1)\n",
      "Collecting certifi>=2017.4.17 (from requests)\n",
      "  Using cached https://files.pythonhosted.org/packages/9f/e0/accfc1b56b57e9750eba272e24c4dddeac86852c2bebd1236674d7887e8a/certifi-2018.11.29-py2.py3-none-any.whl\n",
      "Collecting idna<2.9,>=2.5 (from requests)\n",
      "  Using cached https://files.pythonhosted.org/packages/14/2c/cd551d81dbe15200be1cf41cd03869a46fe7226e7450af7a6545bfc474c9/idna-2.8-py2.py3-none-any.whl\n",
      "Collecting chardet<3.1.0,>=3.0.2 (from requests)\n",
      "  Using cached https://files.pythonhosted.org/packages/bc/a9/01ffebfb562e4274b6487b4bb1ddec7ca55ec7510b22e4c51f14098443b8/chardet-3.0.4-py2.py3-none-any.whl\n",
      "Installing collected packages: certifi, idna, chardet, requests\n",
      "Successfully installed certifi-2018.11.29 chardet-3.0.4 idna-2.8 requests-2.21.0\n",
      "\u001b[33mYou are using pip version 18.1, however version 19.0.2 is available.\n",
      "You should consider upgrading via the 'pip install --upgrade pip' command.\u001b[0m\n"
     ]
    }
   ],
   "source": [
    "!pip install -U requests"
   ]
  },
  {
   "cell_type": "code",
   "execution_count": 4,
   "metadata": {
    "slideshow": {
     "slide_type": "slide"
    }
   },
   "outputs": [],
   "source": [
    "import requests"
   ]
  },
  {
   "cell_type": "code",
   "execution_count": 5,
   "metadata": {},
   "outputs": [
    {
     "data": {
      "text/plain": [
       "<Response [200]>"
      ]
     },
     "execution_count": 5,
     "metadata": {},
     "output_type": "execute_result"
    }
   ],
   "source": [
    "resp = requests.get('https://api.github.com')\n",
    "resp"
   ]
  },
  {
   "cell_type": "code",
   "execution_count": 6,
   "metadata": {},
   "outputs": [
    {
     "data": {
      "text/plain": [
       "'{\"current_user_url\":\"https://api.github.com/user\",\"current_user_authorizations_html_url\":\"https://github.com/settings/connections/applications{/client_id}\",\"authorizations_url\":\"https://api.github.com/authorizations\",\"code_search_url\":\"https://api.github.com/search/code?q={query}{&page,per_page,sort,order}\",\"commit_search_url\":\"https://api.github.com/search/commits?q={query}{&page,per_page,sort,order}\",\"emails_url\":\"https://api.github.com/user/emails\",\"emojis_url\":\"https://api.github.com/emojis\",\"events_url\":\"https://api.github.com/events\",\"feeds_url\":\"https://api.github.com/feeds\",\"followers_url\":\"https://api.github.com/user/followers\",\"following_url\":\"https://api.github.com/user/following{/target}\",\"gists_url\":\"https://api.github.com/gists{/gist_id}\",\"hub_url\":\"https://api.github.com/hub\",\"issue_search_url\":\"https://api.github.com/search/issues?q={query}{&page,per_page,sort,order}\",\"issues_url\":\"https://api.github.com/issues\",\"keys_url\":\"https://api.github.com/user/keys\",\"notifications_url\":\"https://api.github.com/notifications\",\"organization_repositories_url\":\"https://api.github.com/orgs/{org}/repos{?type,page,per_page,sort}\",\"organization_url\":\"https://api.github.com/orgs/{org}\",\"public_gists_url\":\"https://api.github.com/gists/public\",\"rate_limit_url\":\"https://api.github.com/rate_limit\",\"repository_url\":\"https://api.github.com/repos/{owner}/{repo}\",\"repository_search_url\":\"https://api.github.com/search/repositories?q={query}{&page,per_page,sort,order}\",\"current_user_repositories_url\":\"https://api.github.com/user/repos{?type,page,per_page,sort}\",\"starred_url\":\"https://api.github.com/user/starred{/owner}{/repo}\",\"starred_gists_url\":\"https://api.github.com/gists/starred\",\"team_url\":\"https://api.github.com/teams\",\"user_url\":\"https://api.github.com/users/{user}\",\"user_organizations_url\":\"https://api.github.com/user/orgs\",\"user_repositories_url\":\"https://api.github.com/users/{user}/repos{?type,page,per_page,sort}\",\"user_search_url\":\"https://api.github.com/search/users?q={query}{&page,per_page,sort,order}\"}'"
      ]
     },
     "execution_count": 6,
     "metadata": {},
     "output_type": "execute_result"
    }
   ],
   "source": [
    "resp.text"
   ]
  },
  {
   "cell_type": "code",
   "execution_count": 7,
   "metadata": {},
   "outputs": [
    {
     "data": {
      "text/plain": [
       "{'Server': 'GitHub.com', 'Date': 'Fri, 08 Mar 2019 11:44:05 GMT', 'Content-Type': 'application/json; charset=utf-8', 'Transfer-Encoding': 'chunked', 'Status': '200 OK', 'X-RateLimit-Limit': '60', 'X-RateLimit-Remaining': '59', 'X-RateLimit-Reset': '1552049045', 'Cache-Control': 'public, max-age=60, s-maxage=60', 'Vary': 'Accept', 'ETag': 'W/\"7dc470913f1fe9bb6c7355b50a0737bc\"', 'X-GitHub-Media-Type': 'github.v3; format=json', 'Access-Control-Expose-Headers': 'ETag, Link, Location, Retry-After, X-GitHub-OTP, X-RateLimit-Limit, X-RateLimit-Remaining, X-RateLimit-Reset, X-OAuth-Scopes, X-Accepted-OAuth-Scopes, X-Poll-Interval, X-GitHub-Media-Type', 'Access-Control-Allow-Origin': '*', 'Strict-Transport-Security': 'max-age=31536000; includeSubdomains; preload', 'X-Frame-Options': 'deny', 'X-Content-Type-Options': 'nosniff', 'X-XSS-Protection': '1; mode=block', 'Referrer-Policy': 'origin-when-cross-origin, strict-origin-when-cross-origin', 'Content-Security-Policy': \"default-src 'none'\", 'Content-Encoding': 'gzip', 'X-GitHub-Request-Id': '73A8:0BE2:8854C7:125A504:5C825584'}"
      ]
     },
     "execution_count": 7,
     "metadata": {},
     "output_type": "execute_result"
    }
   ],
   "source": [
    "resp.headers"
   ]
  },
  {
   "cell_type": "code",
   "execution_count": 8,
   "metadata": {},
   "outputs": [
    {
     "data": {
      "text/plain": [
       "{'current_user_url': 'https://api.github.com/user',\n",
       " 'current_user_authorizations_html_url': 'https://github.com/settings/connections/applications{/client_id}',\n",
       " 'authorizations_url': 'https://api.github.com/authorizations',\n",
       " 'code_search_url': 'https://api.github.com/search/code?q={query}{&page,per_page,sort,order}',\n",
       " 'commit_search_url': 'https://api.github.com/search/commits?q={query}{&page,per_page,sort,order}',\n",
       " 'emails_url': 'https://api.github.com/user/emails',\n",
       " 'emojis_url': 'https://api.github.com/emojis',\n",
       " 'events_url': 'https://api.github.com/events',\n",
       " 'feeds_url': 'https://api.github.com/feeds',\n",
       " 'followers_url': 'https://api.github.com/user/followers',\n",
       " 'following_url': 'https://api.github.com/user/following{/target}',\n",
       " 'gists_url': 'https://api.github.com/gists{/gist_id}',\n",
       " 'hub_url': 'https://api.github.com/hub',\n",
       " 'issue_search_url': 'https://api.github.com/search/issues?q={query}{&page,per_page,sort,order}',\n",
       " 'issues_url': 'https://api.github.com/issues',\n",
       " 'keys_url': 'https://api.github.com/user/keys',\n",
       " 'notifications_url': 'https://api.github.com/notifications',\n",
       " 'organization_repositories_url': 'https://api.github.com/orgs/{org}/repos{?type,page,per_page,sort}',\n",
       " 'organization_url': 'https://api.github.com/orgs/{org}',\n",
       " 'public_gists_url': 'https://api.github.com/gists/public',\n",
       " 'rate_limit_url': 'https://api.github.com/rate_limit',\n",
       " 'repository_url': 'https://api.github.com/repos/{owner}/{repo}',\n",
       " 'repository_search_url': 'https://api.github.com/search/repositories?q={query}{&page,per_page,sort,order}',\n",
       " 'current_user_repositories_url': 'https://api.github.com/user/repos{?type,page,per_page,sort}',\n",
       " 'starred_url': 'https://api.github.com/user/starred{/owner}{/repo}',\n",
       " 'starred_gists_url': 'https://api.github.com/gists/starred',\n",
       " 'team_url': 'https://api.github.com/teams',\n",
       " 'user_url': 'https://api.github.com/users/{user}',\n",
       " 'user_organizations_url': 'https://api.github.com/user/orgs',\n",
       " 'user_repositories_url': 'https://api.github.com/users/{user}/repos{?type,page,per_page,sort}',\n",
       " 'user_search_url': 'https://api.github.com/search/users?q={query}{&page,per_page,sort,order}'}"
      ]
     },
     "execution_count": 8,
     "metadata": {},
     "output_type": "execute_result"
    }
   ],
   "source": [
    "resp.json()"
   ]
  },
  {
   "cell_type": "code",
   "execution_count": 9,
   "metadata": {},
   "outputs": [
    {
     "data": {
      "text/plain": [
       "<Response [200]>"
      ]
     },
     "execution_count": 9,
     "metadata": {},
     "output_type": "execute_result"
    }
   ],
   "source": [
    "resp = requests.get('https://api.github.com/orgs/{org}'.format(\n",
    "    org='Arborian'))\n",
    "resp"
   ]
  },
  {
   "cell_type": "code",
   "execution_count": 10,
   "metadata": {},
   "outputs": [
    {
     "data": {
      "text/plain": [
       "{'login': 'Arborian',\n",
       " 'id': 24494919,\n",
       " 'node_id': 'MDEyOk9yZ2FuaXphdGlvbjI0NDk0OTE5',\n",
       " 'url': 'https://api.github.com/orgs/Arborian',\n",
       " 'repos_url': 'https://api.github.com/orgs/Arborian/repos',\n",
       " 'events_url': 'https://api.github.com/orgs/Arborian/events',\n",
       " 'hooks_url': 'https://api.github.com/orgs/Arborian/hooks',\n",
       " 'issues_url': 'https://api.github.com/orgs/Arborian/issues',\n",
       " 'members_url': 'https://api.github.com/orgs/Arborian/members{/member}',\n",
       " 'public_members_url': 'https://api.github.com/orgs/Arborian/public_members{/member}',\n",
       " 'avatar_url': 'https://avatars1.githubusercontent.com/u/24494919?v=4',\n",
       " 'description': '',\n",
       " 'name': 'Arborian Consulting',\n",
       " 'company': None,\n",
       " 'blog': 'http://www.arborian.com/',\n",
       " 'location': 'Atlanta, GA',\n",
       " 'email': 'info@arborian.com',\n",
       " 'is_verified': False,\n",
       " 'has_organization_projects': True,\n",
       " 'has_repository_projects': True,\n",
       " 'public_repos': 13,\n",
       " 'public_gists': 0,\n",
       " 'followers': 0,\n",
       " 'following': 0,\n",
       " 'html_url': 'https://github.com/Arborian',\n",
       " 'created_at': '2016-12-10T15:30:23Z',\n",
       " 'updated_at': '2018-08-09T03:00:37Z',\n",
       " 'type': 'Organization'}"
      ]
     },
     "execution_count": 10,
     "metadata": {},
     "output_type": "execute_result"
    }
   ],
   "source": [
    "resp.json()"
   ]
  },
  {
   "cell_type": "markdown",
   "metadata": {},
   "source": [
    "# Postb.in - quick, throw-away websites to test API clients"
   ]
  },
  {
   "cell_type": "markdown",
   "metadata": {},
   "source": [
    "Create bin"
   ]
  },
  {
   "cell_type": "code",
   "execution_count": 11,
   "metadata": {},
   "outputs": [
    {
     "data": {
      "text/plain": [
       "<Response [201]>"
      ]
     },
     "execution_count": 11,
     "metadata": {},
     "output_type": "execute_result"
    }
   ],
   "source": [
    "resp = requests.post('https://postb.in/api/bin')\n",
    "resp"
   ]
  },
  {
   "cell_type": "code",
   "execution_count": 12,
   "metadata": {},
   "outputs": [
    {
     "data": {
      "text/plain": [
       "{'inserted': 1552045502522,\n",
       " 'updated': 1552045502522,\n",
       " 'binId': 'dvvLKprW',\n",
       " 'expires': 1552047302522}"
      ]
     },
     "execution_count": 12,
     "metadata": {},
     "output_type": "execute_result"
    }
   ],
   "source": [
    "bin_data = resp.json()\n",
    "bin_data"
   ]
  },
  {
   "cell_type": "code",
   "execution_count": 13,
   "metadata": {
    "slideshow": {
     "slide_type": "slide"
    }
   },
   "outputs": [
    {
     "data": {
      "text/plain": [
       "{'inserted': 1552045502522,\n",
       " 'updated': 1552045502522,\n",
       " 'binId': 'dvvLKprW',\n",
       " 'expires': 1552047302522}"
      ]
     },
     "execution_count": 13,
     "metadata": {},
     "output_type": "execute_result"
    }
   ],
   "source": [
    "resp = requests.get('https://postb.in/api/bin/{binId}'.format_map(bin_data))\n",
    "resp.raise_for_status()\n",
    "resp.json()"
   ]
  },
  {
   "cell_type": "code",
   "execution_count": 14,
   "metadata": {},
   "outputs": [
    {
     "data": {
      "text/plain": [
       "'https://postb.in/dvvLKprW'"
      ]
     },
     "execution_count": 14,
     "metadata": {},
     "output_type": "execute_result"
    }
   ],
   "source": [
    "bin_url = 'https://postb.in/{binId}'.format_map(bin_data)\n",
    "bin_url"
   ]
  },
  {
   "cell_type": "code",
   "execution_count": 15,
   "metadata": {},
   "outputs": [],
   "source": [
    "resp = requests.post(bin_url, json={'name': 'Arborian'})"
   ]
  },
  {
   "cell_type": "code",
   "execution_count": 16,
   "metadata": {},
   "outputs": [
    {
     "data": {
      "text/plain": [
       "<Response [200]>"
      ]
     },
     "execution_count": 16,
     "metadata": {},
     "output_type": "execute_result"
    }
   ],
   "source": [
    "resp"
   ]
  },
  {
   "cell_type": "code",
   "execution_count": 17,
   "metadata": {},
   "outputs": [
    {
     "data": {
      "text/plain": [
       "'CEKrgG0G'"
      ]
     },
     "execution_count": 17,
     "metadata": {},
     "output_type": "execute_result"
    }
   ],
   "source": [
    "reqId = resp.text\n",
    "reqId"
   ]
  },
  {
   "cell_type": "code",
   "execution_count": 18,
   "metadata": {},
   "outputs": [
    {
     "data": {
      "text/plain": [
       "<Response [200]>"
      ]
     },
     "execution_count": 18,
     "metadata": {},
     "output_type": "execute_result"
    }
   ],
   "source": [
    "req_url = 'https://postb.in/api/bin/{binId}/req/{reqId}'.format(\n",
    "    binId=bin_data['binId'],\n",
    "    reqId=reqId,\n",
    ")\n",
    "resp = requests.get(req_url)\n",
    "resp"
   ]
  },
  {
   "cell_type": "code",
   "execution_count": 19,
   "metadata": {},
   "outputs": [
    {
     "data": {
      "text/plain": [
       "{'method': 'POST',\n",
       " 'path': '/dvvLKprW',\n",
       " 'headers': {'host': 'postb-in.herokuapp.com',\n",
       "  'connection': 'close',\n",
       "  'user-agent': 'python-requests/2.21.0',\n",
       "  'accept-encoding': 'gzip, deflate',\n",
       "  'accept': '*/*',\n",
       "  'content-type': 'application/json',\n",
       "  'fly-request-id': 'bMRgNjqaEV0yDVMabWWdqu0rcE',\n",
       "  'fly-app': 'postbin-proxy',\n",
       "  'connect-time': '0',\n",
       "  'total-route-time': '0',\n",
       "  'content-length': '20'},\n",
       " 'query': {},\n",
       " 'body': {'name': 'Arborian'},\n",
       " 'ip': '103.68.105.254',\n",
       " 'binId': 'dvvLKprW',\n",
       " 'inserted': 1552045517133,\n",
       " 'reqId': 'CEKrgG0G'}"
      ]
     },
     "execution_count": 19,
     "metadata": {},
     "output_type": "execute_result"
    }
   ],
   "source": [
    "resp.json()"
   ]
  },
  {
   "cell_type": "markdown",
   "metadata": {},
   "source": [
    "# Requests Sessions\n",
    "\n",
    "- Keep your code DRY (don't repeat yourself)\n",
    "- Keep headers, authentication, etc. around\n",
    "- Hold on to your cookies"
   ]
  },
  {
   "cell_type": "code",
   "execution_count": 20,
   "metadata": {},
   "outputs": [
    {
     "name": "stdout",
     "output_type": "stream",
     "text": [
      "https://postb.in/dvvLKprW\n"
     ]
    },
    {
     "data": {
      "text/plain": [
       "<Response [200]>"
      ]
     },
     "execution_count": 20,
     "metadata": {},
     "output_type": "execute_result"
    }
   ],
   "source": [
    "sess = requests.Session()\n",
    "sess.headers['Content-Type'] = 'application/json'\n",
    "sess.auth = ('user', 'pass')\n",
    "\n",
    "print(bin_url)\n",
    "resp = sess.get(bin_url)\n",
    "resp"
   ]
  },
  {
   "cell_type": "code",
   "execution_count": 21,
   "metadata": {},
   "outputs": [
    {
     "data": {
      "text/plain": [
       "'4kSNGBuy'"
      ]
     },
     "execution_count": 21,
     "metadata": {},
     "output_type": "execute_result"
    }
   ],
   "source": [
    "reqId = resp.text\n",
    "reqId"
   ]
  },
  {
   "cell_type": "code",
   "execution_count": 22,
   "metadata": {},
   "outputs": [
    {
     "data": {
      "text/plain": [
       "<Response [200]>"
      ]
     },
     "execution_count": 22,
     "metadata": {},
     "output_type": "execute_result"
    }
   ],
   "source": [
    "req_url = 'https://postb.in/api/bin/{binId}/req/{reqId}'.format(\n",
    "    binId=bin_data['binId'],\n",
    "    reqId=reqId,\n",
    ")\n",
    "resp = requests.get(req_url)\n",
    "resp"
   ]
  },
  {
   "cell_type": "code",
   "execution_count": 53,
   "metadata": {},
   "outputs": [
    {
     "data": {
      "text/plain": [
       "{'method': 'GET',\n",
       " 'path': '/1Tat5IFv',\n",
       " 'headers': {'host': 'postb-in.herokuapp.com',\n",
       "  'connection': 'close',\n",
       "  'user-agent': 'python-requests/2.21.0',\n",
       "  'accept': '*/*',\n",
       "  'accept-encoding': 'gzip, deflate',\n",
       "  'authorization': 'Basic dXNlcjpwYXNz',\n",
       "  'content-type': 'application/json',\n",
       "  'fly-request-id': 'bMDWhpUKl4j07sEjSrMzdKgLYM',\n",
       "  'fly-app': 'postbin-proxy',\n",
       "  'connect-time': '1',\n",
       "  'total-route-time': '0'},\n",
       " 'query': {},\n",
       " 'body': {},\n",
       " 'ip': '107.139.197.233',\n",
       " 'binId': '1Tat5IFv',\n",
       " 'inserted': 1550694502272,\n",
       " 'reqId': 'tzH0Zz9X'}"
      ]
     },
     "execution_count": 53,
     "metadata": {},
     "output_type": "execute_result"
    }
   ],
   "source": [
    "resp.json()"
   ]
  },
  {
   "cell_type": "code",
   "execution_count": 23,
   "metadata": {},
   "outputs": [
    {
     "data": {
      "text/plain": [
       "b'user:pass'"
      ]
     },
     "execution_count": 23,
     "metadata": {},
     "output_type": "execute_result"
    }
   ],
   "source": [
    "import base64\n",
    "hdr = resp.json()['headers']['authorization']\n",
    "base64.b64decode(hdr.split()[-1])"
   ]
  },
  {
   "cell_type": "markdown",
   "metadata": {},
   "source": [
    "# Handling errors"
   ]
  },
  {
   "cell_type": "code",
   "execution_count": 24,
   "metadata": {},
   "outputs": [
    {
     "data": {
      "text/plain": [
       "<Response [404]>"
      ]
     },
     "execution_count": 24,
     "metadata": {},
     "output_type": "execute_result"
    }
   ],
   "source": [
    "resp = sess.get('https://postb.in/foo')\n",
    "resp"
   ]
  },
  {
   "cell_type": "code",
   "execution_count": 25,
   "metadata": {
    "slideshow": {
     "slide_type": "fragment"
    }
   },
   "outputs": [
    {
     "data": {
      "text/plain": [
       "b'404 - Not Found\\n'"
      ]
     },
     "execution_count": 25,
     "metadata": {},
     "output_type": "execute_result"
    }
   ],
   "source": [
    "resp.content"
   ]
  },
  {
   "cell_type": "code",
   "execution_count": 26,
   "metadata": {
    "slideshow": {
     "slide_type": "fragment"
    }
   },
   "outputs": [
    {
     "data": {
      "text/plain": [
       "404"
      ]
     },
     "execution_count": 26,
     "metadata": {},
     "output_type": "execute_result"
    }
   ],
   "source": [
    "resp.status_code"
   ]
  },
  {
   "cell_type": "code",
   "execution_count": 27,
   "metadata": {
    "slideshow": {
     "slide_type": "slide"
    }
   },
   "outputs": [
    {
     "name": "stdout",
     "output_type": "stream",
     "text": [
      "Raised exception 404 Client Error: Not Found for url: https://postb.in/foo\n"
     ]
    }
   ],
   "source": [
    "try:\n",
    "    resp.raise_for_status()\n",
    "except Exception as err:\n",
    "    print(f'Raised exception {err}')\n",
    "    saved_err = err"
   ]
  },
  {
   "cell_type": "code",
   "execution_count": 28,
   "metadata": {
    "slideshow": {
     "slide_type": "fragment"
    }
   },
   "outputs": [
    {
     "data": {
      "text/plain": [
       "<PreparedRequest [GET]>"
      ]
     },
     "execution_count": 28,
     "metadata": {},
     "output_type": "execute_result"
    }
   ],
   "source": [
    "saved_err.request"
   ]
  },
  {
   "cell_type": "code",
   "execution_count": 29,
   "metadata": {
    "slideshow": {
     "slide_type": "-"
    }
   },
   "outputs": [
    {
     "data": {
      "text/plain": [
       "<Response [404]>"
      ]
     },
     "execution_count": 29,
     "metadata": {},
     "output_type": "execute_result"
    }
   ],
   "source": [
    "saved_err.response"
   ]
  },
  {
   "cell_type": "code",
   "execution_count": 30,
   "metadata": {},
   "outputs": [
    {
     "data": {
      "text/plain": [
       "requests.exceptions.HTTPError"
      ]
     },
     "execution_count": 30,
     "metadata": {},
     "output_type": "execute_result"
    }
   ],
   "source": [
    "type(saved_err)"
   ]
  },
  {
   "cell_type": "markdown",
   "metadata": {
    "slideshow": {
     "slide_type": "slide"
    }
   },
   "source": [
    "# Basic Authentication with Requests"
   ]
  },
  {
   "cell_type": "code",
   "execution_count": 31,
   "metadata": {},
   "outputs": [
    {
     "data": {
      "text/plain": [
       "{'message': 'Maximum number of login attempts exceeded. Please try again later.',\n",
       " 'documentation_url': 'https://developer.github.com/v3'}"
      ]
     },
     "execution_count": 31,
     "metadata": {},
     "output_type": "execute_result"
    }
   ],
   "source": [
    "sess.auth = ('user', 'pass')\n",
    "r = sess.get('https://api.github.com')\n",
    "r.json()"
   ]
  },
  {
   "cell_type": "code",
   "execution_count": 32,
   "metadata": {},
   "outputs": [
    {
     "data": {
      "text/plain": [
       "<Response [403]>"
      ]
     },
     "execution_count": 32,
     "metadata": {},
     "output_type": "execute_result"
    }
   ],
   "source": [
    "r"
   ]
  },
  {
   "cell_type": "code",
   "execution_count": 33,
   "metadata": {
    "slideshow": {
     "slide_type": "fragment"
    }
   },
   "outputs": [],
   "source": [
    "sess.auth = None\n",
    "sess.get('https://api.github.com').raise_for_status()"
   ]
  },
  {
   "cell_type": "markdown",
   "metadata": {
    "slideshow": {
     "slide_type": "slide"
    }
   },
   "source": [
    "# Using uri templates a-la Github"
   ]
  },
  {
   "cell_type": "code",
   "execution_count": 91,
   "metadata": {},
   "outputs": [
    {
     "data": {
      "text/plain": [
       "'https://api.github.com/repos/Arborian/f2e/commits{/sha}'"
      ]
     },
     "execution_count": 91,
     "metadata": {},
     "output_type": "execute_result"
    }
   ],
   "source": [
    "repos = sess.get('https://api.github.com/orgs/Arborian/repos').json()\n",
    "repos[0]['commits_url']"
   ]
  },
  {
   "cell_type": "code",
   "execution_count": 70,
   "metadata": {
    "slideshow": {
     "slide_type": "fragment"
    }
   },
   "outputs": [
    {
     "name": "stdout",
     "output_type": "stream",
     "text": [
      "Collecting uritemplate\n",
      "  Using cached https://files.pythonhosted.org/packages/e5/7d/9d5a640c4f8bf2c8b1afc015e9a9d8de32e13c9016dcc4b0ec03481fb396/uritemplate-3.0.0-py2.py3-none-any.whl\n",
      "Installing collected packages: uritemplate\n",
      "Successfully installed uritemplate-3.0.0\n",
      "\u001b[33mYou are using pip version 18.1, however version 19.0.2 is available.\n",
      "You should consider upgrading via the 'pip install --upgrade pip' command.\u001b[0m\n"
     ]
    }
   ],
   "source": [
    "!pip install uritemplate"
   ]
  },
  {
   "cell_type": "code",
   "execution_count": 71,
   "metadata": {},
   "outputs": [],
   "source": [
    "import uritemplate"
   ]
  },
  {
   "cell_type": "code",
   "execution_count": 94,
   "metadata": {},
   "outputs": [
    {
     "data": {
      "text/plain": [
       "['f2e',\n",
       " 'ansible-class',\n",
       " 'client-py',\n",
       " 'supreload',\n",
       " 'react-big-calendar',\n",
       " 'fhirstorm',\n",
       " 'ansible-role-arborian',\n",
       " 'inventory',\n",
       " 'flask-pymongo',\n",
       " 'chapman2',\n",
       " 'policies',\n",
       " 'my-repo',\n",
       " 'recommender']"
      ]
     },
     "execution_count": 94,
     "metadata": {},
     "output_type": "execute_result"
    }
   ],
   "source": [
    "[r['name'] for r in repos]"
   ]
  },
  {
   "cell_type": "code",
   "execution_count": 111,
   "metadata": {},
   "outputs": [],
   "source": [
    "# commits_url = repos[-1]['commits_url']\n",
    "commits_url = 'https://api.github.com/repos/Arborian/recommender/commits{/sha}'"
   ]
  },
  {
   "cell_type": "code",
   "execution_count": 112,
   "metadata": {
    "slideshow": {
     "slide_type": "slide"
    }
   },
   "outputs": [],
   "source": [
    "commits = sess.get(uritemplate.expand(commits_url)).json()"
   ]
  },
  {
   "cell_type": "code",
   "execution_count": 113,
   "metadata": {},
   "outputs": [
    {
     "data": {
      "text/plain": [
       "'3a0b9b6617dbad6ed79e01d04312840232943967'"
      ]
     },
     "execution_count": 113,
     "metadata": {},
     "output_type": "execute_result"
    }
   ],
   "source": [
    "commits[0]['sha']"
   ]
  },
  {
   "cell_type": "code",
   "execution_count": 114,
   "metadata": {
    "slideshow": {
     "slide_type": "fragment"
    }
   },
   "outputs": [
    {
     "data": {
      "text/plain": [
       "'https://api.github.com/repos/Arborian/f2e/commits/3a0b9b6617dbad6ed79e01d04312840232943967'"
      ]
     },
     "execution_count": 114,
     "metadata": {},
     "output_type": "execute_result"
    }
   ],
   "source": [
    "uritemplate.expand(repos[0]['commits_url'], sha=commits[0]['sha'])"
   ]
  },
  {
   "cell_type": "code",
   "execution_count": 126,
   "metadata": {},
   "outputs": [],
   "source": [
    "for x in range(100):\n",
    "    commit = sess.get(uritemplate.expand(commits_url, sha=commits[0]['sha'])).json()"
   ]
  },
  {
   "cell_type": "code",
   "execution_count": 127,
   "metadata": {},
   "outputs": [
    {
     "data": {
      "text/plain": [
       "'3a0b9b6617dbad6ed79e01d04312840232943967'"
      ]
     },
     "execution_count": 127,
     "metadata": {},
     "output_type": "execute_result"
    }
   ],
   "source": [
    "commits[0]['sha']"
   ]
  },
  {
   "cell_type": "markdown",
   "metadata": {
    "slideshow": {
     "slide_type": "slide"
    }
   },
   "source": [
    "# Github: create a personal access token\n",
    "\n",
    "- https://github.com/settings/tokens\n",
    "- Send in an Authorization header"
   ]
  },
  {
   "cell_type": "code",
   "execution_count": 128,
   "metadata": {},
   "outputs": [],
   "source": [
    "access_token = '821479bf917a66190a9b8ef4b401b8ea68d21d85'"
   ]
  },
  {
   "cell_type": "code",
   "execution_count": 129,
   "metadata": {},
   "outputs": [],
   "source": [
    "sess.headers['Authorization'] = 'token {}'.format(access_token)"
   ]
  },
  {
   "cell_type": "code",
   "execution_count": 132,
   "metadata": {},
   "outputs": [],
   "source": [
    "commit = sess.get(uritemplate.expand(commits_url, sha=commits[0]['sha'])).json()"
   ]
  },
  {
   "cell_type": "code",
   "execution_count": 134,
   "metadata": {},
   "outputs": [
    {
     "data": {
      "text/plain": [
       "{'author': {'name': 'Rick Copeland',\n",
       "  'email': 'rick@arborian.com',\n",
       "  'date': '2019-02-19T00:28:00Z'},\n",
       " 'committer': {'name': 'Rick Copeland',\n",
       "  'email': 'rick@arborian.com',\n",
       "  'date': '2019-02-19T00:28:00Z'},\n",
       " 'message': 'remove print statement',\n",
       " 'tree': {'sha': 'a6607f3243618656931442d7d110c68dcf0a245f',\n",
       "  'url': 'https://api.github.com/repos/Arborian/recommender/git/trees/a6607f3243618656931442d7d110c68dcf0a245f'},\n",
       " 'url': 'https://api.github.com/repos/Arborian/recommender/git/commits/3a0b9b6617dbad6ed79e01d04312840232943967',\n",
       " 'comment_count': 0,\n",
       " 'verification': {'verified': False,\n",
       "  'reason': 'unsigned',\n",
       "  'signature': None,\n",
       "  'payload': None}}"
      ]
     },
     "execution_count": 134,
     "metadata": {},
     "output_type": "execute_result"
    }
   ],
   "source": [
    "commit['commit']"
   ]
  },
  {
   "cell_type": "code",
   "execution_count": 135,
   "metadata": {},
   "outputs": [
    {
     "data": {
      "text/plain": [
       "{'current_user_url': 'https://api.github.com/user',\n",
       " 'current_user_authorizations_html_url': 'https://github.com/settings/connections/applications{/client_id}',\n",
       " 'authorizations_url': 'https://api.github.com/authorizations',\n",
       " 'code_search_url': 'https://api.github.com/search/code?q={query}{&page,per_page,sort,order}',\n",
       " 'commit_search_url': 'https://api.github.com/search/commits?q={query}{&page,per_page,sort,order}',\n",
       " 'emails_url': 'https://api.github.com/user/emails',\n",
       " 'emojis_url': 'https://api.github.com/emojis',\n",
       " 'events_url': 'https://api.github.com/events',\n",
       " 'feeds_url': 'https://api.github.com/feeds',\n",
       " 'followers_url': 'https://api.github.com/user/followers',\n",
       " 'following_url': 'https://api.github.com/user/following{/target}',\n",
       " 'gists_url': 'https://api.github.com/gists{/gist_id}',\n",
       " 'hub_url': 'https://api.github.com/hub',\n",
       " 'issue_search_url': 'https://api.github.com/search/issues?q={query}{&page,per_page,sort,order}',\n",
       " 'issues_url': 'https://api.github.com/issues',\n",
       " 'keys_url': 'https://api.github.com/user/keys',\n",
       " 'notifications_url': 'https://api.github.com/notifications',\n",
       " 'organization_repositories_url': 'https://api.github.com/orgs/{org}/repos{?type,page,per_page,sort}',\n",
       " 'organization_url': 'https://api.github.com/orgs/{org}',\n",
       " 'public_gists_url': 'https://api.github.com/gists/public',\n",
       " 'rate_limit_url': 'https://api.github.com/rate_limit',\n",
       " 'repository_url': 'https://api.github.com/repos/{owner}/{repo}',\n",
       " 'repository_search_url': 'https://api.github.com/search/repositories?q={query}{&page,per_page,sort,order}',\n",
       " 'current_user_repositories_url': 'https://api.github.com/user/repos{?type,page,per_page,sort}',\n",
       " 'starred_url': 'https://api.github.com/user/starred{/owner}{/repo}',\n",
       " 'starred_gists_url': 'https://api.github.com/gists/starred',\n",
       " 'team_url': 'https://api.github.com/teams',\n",
       " 'user_url': 'https://api.github.com/users/{user}',\n",
       " 'user_organizations_url': 'https://api.github.com/user/orgs',\n",
       " 'user_repositories_url': 'https://api.github.com/users/{user}/repos{?type,page,per_page,sort}',\n",
       " 'user_search_url': 'https://api.github.com/search/users?q={query}{&page,per_page,sort,order}'}"
      ]
     },
     "execution_count": 135,
     "metadata": {},
     "output_type": "execute_result"
    }
   ],
   "source": [
    "sess.get('https://api.github.com').json()"
   ]
  },
  {
   "cell_type": "code",
   "execution_count": 136,
   "metadata": {},
   "outputs": [
    {
     "data": {
      "text/plain": [
       "{'login': 'rick446',\n",
       " 'id': 196783,\n",
       " 'node_id': 'MDQ6VXNlcjE5Njc4Mw==',\n",
       " 'avatar_url': 'https://avatars2.githubusercontent.com/u/196783?v=4',\n",
       " 'gravatar_id': '',\n",
       " 'url': 'https://api.github.com/users/rick446',\n",
       " 'html_url': 'https://github.com/rick446',\n",
       " 'followers_url': 'https://api.github.com/users/rick446/followers',\n",
       " 'following_url': 'https://api.github.com/users/rick446/following{/other_user}',\n",
       " 'gists_url': 'https://api.github.com/users/rick446/gists{/gist_id}',\n",
       " 'starred_url': 'https://api.github.com/users/rick446/starred{/owner}{/repo}',\n",
       " 'subscriptions_url': 'https://api.github.com/users/rick446/subscriptions',\n",
       " 'organizations_url': 'https://api.github.com/users/rick446/orgs',\n",
       " 'repos_url': 'https://api.github.com/users/rick446/repos',\n",
       " 'events_url': 'https://api.github.com/users/rick446/events{/privacy}',\n",
       " 'received_events_url': 'https://api.github.com/users/rick446/received_events',\n",
       " 'type': 'User',\n",
       " 'site_admin': False,\n",
       " 'name': 'Rick Copeland',\n",
       " 'company': 'Arborian Consulting',\n",
       " 'blog': 'http://blog.pythonisito.com',\n",
       " 'location': None,\n",
       " 'email': None,\n",
       " 'hireable': None,\n",
       " 'bio': None,\n",
       " 'public_repos': 50,\n",
       " 'public_gists': 0,\n",
       " 'followers': 55,\n",
       " 'following': 2,\n",
       " 'created_at': '2010-02-04T15:28:06Z',\n",
       " 'updated_at': '2019-02-19T17:23:39Z'}"
      ]
     },
     "execution_count": 136,
     "metadata": {},
     "output_type": "execute_result"
    }
   ],
   "source": [
    "sess.get('https://api.github.com/user').json()"
   ]
  },
  {
   "cell_type": "markdown",
   "metadata": {},
   "source": [
    "# Lab\n",
    "\n",
    "Open the [API and Requests Lab][requests-lab]\n",
    "\n",
    "[requests-lab]: ./requests-lab.ipynb"
   ]
  }
 ],
 "metadata": {
  "kernelspec": {
   "display_name": "Python 3",
   "language": "python",
   "name": "python3"
  },
  "language_info": {
   "codemirror_mode": {
    "name": "ipython",
    "version": 3
   },
   "file_extension": ".py",
   "mimetype": "text/x-python",
   "name": "python",
   "nbconvert_exporter": "python",
   "pygments_lexer": "ipython3",
   "version": "3.7.2"
  }
 },
 "nbformat": 4,
 "nbformat_minor": 2
}

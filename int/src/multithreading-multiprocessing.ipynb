{
 "cells": [
  {
   "cell_type": "markdown",
   "metadata": {
    "slideshow": {
     "slide_type": "slide"
    }
   },
   "source": [
    "# Multithreading and Multiprocessing\n",
    "\n",
    "In this module, you'll learn\n",
    "\n",
    "- How much (or little) concurrency you can get with Python threads\n",
    "- How to use synchronization primitives with threading\n",
    "- How to use the multiprocessing module to better utilize multicore machines\n"
   ]
  },
  {
   "cell_type": "markdown",
   "metadata": {
    "slideshow": {
     "slide_type": "slide"
    }
   },
   "source": [
    "# Threading: the Global Interpreter Lock\n",
    "\n",
    "- Only one Python thread active at a time\n",
    "- C libraries can release the GIL\n",
    "  - I/O libraries, NumPy, etc.\n",
    "- Python threads are real OS threads\n",
    "- “Interesting” behavior on multicore systems"
   ]
  },
  {
   "cell_type": "markdown",
   "metadata": {
    "slideshow": {
     "slide_type": "slide"
    }
   },
   "source": [
    "# Python Threads\n",
    "\n",
    "`threading.Thread(target, args=(), kwargs=None)`\n",
    "- target - Python function to call\n",
    "- args, kwargs - arguments to function\n",
    "- can also subclass & override run()\n"
   ]
  },
  {
   "cell_type": "markdown",
   "metadata": {
    "slideshow": {
     "slide_type": "slide"
    }
   },
   "source": [
    "## Basic threading example"
   ]
  },
  {
   "cell_type": "code",
   "execution_count": 1,
   "metadata": {},
   "outputs": [
    {
     "name": "stdout",
     "output_type": "stream",
     "text": [
      "Press enter to begin: \n",
      "Enter something: foo\n",
      "calculated squares up to 594824 * 594824 = 353,814,401,329 while you typed foo\n"
     ]
    }
   ],
   "source": [
    "import threading\n",
    "\n",
    "class MyThread(threading.Thread):\n",
    "    \n",
    "    def run(self):\n",
    "        self.text = input('Enter something: ')\n",
    "        \n",
    "input('Press enter to begin: ')\n",
    "thread = MyThread()\n",
    "thread.start()\n",
    "\n",
    "count, result = 1, 1\n",
    "\n",
    "while thread.is_alive():\n",
    "    result = count * count\n",
    "    count += 1\n",
    "    \n",
    "print(f'calculated squares up to {count} * {count} = {result:,} while you typed {thread.text}')"
   ]
  },
  {
   "cell_type": "markdown",
   "metadata": {},
   "source": [
    "## Classless threading"
   ]
  },
  {
   "cell_type": "code",
   "execution_count": 2,
   "metadata": {
    "scrolled": true
   },
   "outputs": [
    {
     "name": "stdout",
     "output_type": "stream",
     "text": [
      "Press enter to begin: \n",
      "Enter something: \n",
      "calculated squares up to 205433 * 205433 = 42,202,306,624 while you typed \n"
     ]
    }
   ],
   "source": [
    "def target():\n",
    "    global text\n",
    "    text = input('Enter something: ')\n",
    "    \n",
    "input('Press enter to begin: ')\n",
    "thread = threading.Thread(target=target)\n",
    "thread.start()\n",
    "\n",
    "count, result = 1, 1\n",
    "\n",
    "while thread.is_alive():\n",
    "    result = count * count\n",
    "    count += 1\n",
    "    \n",
    "print(f'calculated squares up to {count} * {count} = {result:,} while you typed {text}')    "
   ]
  },
  {
   "cell_type": "markdown",
   "metadata": {},
   "source": [
    "# Threading for performance (?!)"
   ]
  },
  {
   "cell_type": "code",
   "execution_count": 3,
   "metadata": {},
   "outputs": [],
   "source": [
    "import time\n",
    "import json\n",
    "from urllib.request import urlopen\n",
    "from urllib.parse import urlencode\n",
    "\n",
    "APPID = '10d4440bbaa8581bb8da9bd1fbea5617'\n",
    "UNITS = 'metric'\n",
    "\n",
    "cities = [\n",
    "    'Boulder', 'Atlanta', 'San Francisco',\n",
    "    'Reno', 'Honolulu', 'Zurich', 'Dubai',\n",
    "    'Dublin','Stuttgart', 'Rome', 'Singapore', \n",
    "    'Bangalore', 'Hyderabad',\n",
    "]\n",
    "\n",
    "def get_temp(city, temps, units=UNITS, appid=APPID):\n",
    "    qs = urlencode({\n",
    "        'q': city,\n",
    "        'units': units,\n",
    "        'appid': appid,\n",
    "    })\n",
    "    url = f'http://api.openweathermap.org/data/2.5/weather?{qs}'\n",
    "    with urlopen(url) as resp:\n",
    "        data = json.load(resp)\n",
    "        temps[city] = data['main']['temp']\n",
    "        \n",
    "def run_serially():\n",
    "    for city in cities:\n",
    "        get_temp(city, temps)\n",
    "        \n",
    "def run_threaded():\n",
    "    # Create the threads\n",
    "    threads = [\n",
    "        threading.Thread(target=get_temp, args=(c, temps)) \n",
    "        for c in cities\n",
    "    ]\n",
    "\n",
    "    # start all threads\n",
    "    for thread in threads:\n",
    "        thread.start() # not run()\n",
    "\n",
    "    # wait for all threads to complete\n",
    "    for thread in threads:\n",
    "        thread.join()"
   ]
  },
  {
   "cell_type": "code",
   "execution_count": 4,
   "metadata": {},
   "outputs": [
    {
     "name": "stdout",
     "output_type": "stream",
     "text": [
      "it is 9°C in Atlanta\n",
      "it is 33°C in Bangalore\n",
      "it is -3°C in Boulder\n",
      "it is 23°C in Dubai\n",
      "it is 6°C in Dublin\n",
      "it is 21°C in Honolulu\n",
      "it is 34°C in Hyderabad\n",
      "it is 0°C in Reno\n",
      "it is 16°C in Rome\n",
      "it is 8°C in San Francisco\n",
      "it is 32°C in Singapore\n",
      "it is 9°C in Stuttgart\n",
      "it is 6°C in Zurich\n",
      "CPU times: user 21.6 ms, sys: 8.92 ms, total: 30.6 ms\n",
      "Wall time: 1.69 s\n"
     ]
    }
   ],
   "source": [
    "%%time\n",
    "temps = {}\n",
    "\n",
    "run_serially()\n",
    "\n",
    "for k, v in sorted(temps.items()):\n",
    "    print(f'it is {v:.0f}°C in {k}')"
   ]
  },
  {
   "cell_type": "code",
   "execution_count": 5,
   "metadata": {},
   "outputs": [
    {
     "name": "stdout",
     "output_type": "stream",
     "text": [
      "it is 9°C in Atlanta\n",
      "it is 33°C in Bangalore\n",
      "it is -3°C in Boulder\n",
      "it is 23°C in Dubai\n",
      "it is 6°C in Dublin\n",
      "it is 21°C in Honolulu\n",
      "it is 34°C in Hyderabad\n",
      "it is 0°C in Reno\n",
      "it is 16°C in Rome\n",
      "it is 8°C in San Francisco\n",
      "it is 32°C in Singapore\n",
      "it is 9°C in Stuttgart\n",
      "it is 6°C in Zurich\n",
      "CPU times: user 11.8 ms, sys: 7.25 ms, total: 19.1 ms\n",
      "Wall time: 102 ms\n"
     ]
    }
   ],
   "source": [
    "%%time\n",
    "temps = {}\n",
    "\n",
    "run_threaded()\n",
    "\n",
    "for k, v in sorted(temps.items()):\n",
    "    print(f'it is {v:.0f}°C in {k}')"
   ]
  },
  {
   "cell_type": "markdown",
   "metadata": {},
   "source": [
    "# Synchronization primitives\n",
    "\n",
    "Like other threading libraries, Python has support for `Lock`s, `Event`s, and `Semaphore`s:"
   ]
  },
  {
   "cell_type": "code",
   "execution_count": 6,
   "metadata": {},
   "outputs": [],
   "source": [
    "lock = threading.Lock()\n",
    "lock.acquire()\n",
    "lock.release()"
   ]
  },
  {
   "cell_type": "code",
   "execution_count": 7,
   "metadata": {},
   "outputs": [
    {
     "name": "stdout",
     "output_type": "stream",
     "text": [
      "Do things with lock locked, will be released after block\n"
     ]
    }
   ],
   "source": [
    "# Better\n",
    "lock = threading.Lock()\n",
    "with lock:\n",
    "    print('Do things with lock locked, will be released after block')"
   ]
  },
  {
   "cell_type": "code",
   "execution_count": 8,
   "metadata": {},
   "outputs": [],
   "source": [
    "sem = threading.Semaphore(4)\n",
    "sem.acquire()\n",
    "sem.acquire()\n",
    "sem.acquire()\n",
    "sem.acquire()\n",
    "# sem.acquire() would block\n",
    "sem.release()"
   ]
  },
  {
   "cell_type": "code",
   "execution_count": 9,
   "metadata": {},
   "outputs": [
    {
     "name": "stdout",
     "output_type": "stream",
     "text": [
      "Do things with semaphore acquired, will be released after block\n"
     ]
    }
   ],
   "source": [
    "# Better\n",
    "sem = threading.Semaphore(4)\n",
    "with sem:\n",
    "    with sem:\n",
    "        with sem:\n",
    "            with sem:\n",
    "                print('Do things with semaphore acquired, will be released after block')"
   ]
  },
  {
   "cell_type": "markdown",
   "metadata": {},
   "source": [
    "### Threadsafe queue class\n",
    "\n",
    "If you structure your threads to send/receive data rather than just _share_ data, you can use a `queue.Queue`:"
   ]
  },
  {
   "cell_type": "code",
   "execution_count": 10,
   "metadata": {},
   "outputs": [],
   "source": [
    "import queue\n",
    "import threading \n",
    "\n",
    "def worker(q):\n",
    "    while True:\n",
    "        value = q.get()\n",
    "        print('I got a {}'.format(value))\n",
    "        if value is None:\n",
    "            break\n",
    "\n",
    "q = queue.Queue()\n",
    "thd = threading.Thread(target=worker, args=(q, ))\n",
    "thd.start()        "
   ]
  },
  {
   "cell_type": "code",
   "execution_count": 11,
   "metadata": {},
   "outputs": [
    {
     "name": "stdout",
     "output_type": "stream",
     "text": [
      "I got a Hello there\n"
     ]
    }
   ],
   "source": [
    "q.put('Hello there')"
   ]
  },
  {
   "cell_type": "code",
   "execution_count": 12,
   "metadata": {},
   "outputs": [
    {
     "name": "stdout",
     "output_type": "stream",
     "text": [
      "I got a General Kenobi\n"
     ]
    }
   ],
   "source": [
    "q.put('General Kenobi')"
   ]
  },
  {
   "cell_type": "code",
   "execution_count": 13,
   "metadata": {},
   "outputs": [
    {
     "name": "stdout",
     "output_type": "stream",
     "text": [
      "I got a None\n"
     ]
    }
   ],
   "source": [
    "q.put(None)"
   ]
  },
  {
   "cell_type": "markdown",
   "metadata": {},
   "source": [
    "### Simple thread pool"
   ]
  },
  {
   "cell_type": "code",
   "execution_count": 20,
   "metadata": {},
   "outputs": [],
   "source": [
    "class Pool():\n",
    "    def __init__(self, count):\n",
    "        self.count = count\n",
    "        self.job = queue.Queue()\n",
    "        self.result = queue.Queue()\n",
    "        self.threads = [\n",
    "            threading.Thread(target=self.worker)\n",
    "            for i in range(count)\n",
    "        ]\n",
    "        for t in self.threads:\n",
    "            t.setDaemon(True)\n",
    "            t.start()\n",
    "            \n",
    "    def worker(self):\n",
    "        while True:\n",
    "            job = self.job.get()\n",
    "            try:\n",
    "                result = job()\n",
    "            except Exception as err:\n",
    "                self.result.put(err)\n",
    "            else:\n",
    "                self.result.put(result)\n",
    "                "
   ]
  },
  {
   "cell_type": "code",
   "execution_count": 21,
   "metadata": {},
   "outputs": [
    {
     "name": "stdout",
     "output_type": "stream",
     "text": [
      "Starting job\n",
      "Starting job\n",
      "Starting jobStarting job\n",
      "\n",
      "exiting jobexiting job\n",
      "Starting job\n",
      "exiting job\n",
      "Starting job\n",
      "\n",
      "Starting job\n",
      "exiting job\n",
      "Starting job\n",
      "exiting jobexiting job\n",
      "Starting job\n",
      "exiting job\n",
      "Starting job\n",
      "\n",
      "exiting job\n",
      "exiting jobexiting job\n",
      "\n"
     ]
    }
   ],
   "source": [
    "pool = Pool(4)\n",
    "import time\n",
    "\n",
    "def job():\n",
    "    print('Starting job')\n",
    "    time.sleep(1)\n",
    "    print('exiting job')\n",
    "\n",
    "for i in range(10):\n",
    "    pool.job.put(job)"
   ]
  },
  {
   "cell_type": "markdown",
   "metadata": {
    "slideshow": {
     "slide_type": "slide"
    }
   },
   "source": [
    "# Multiprocessing with Python\n",
    "\n",
    "In this module, you'll learn\n",
    "\n",
    "- How to use the multiprocessing module \n",
    "- How to use multiprocessing's support for synchronization and communication"
   ]
  },
  {
   "cell_type": "markdown",
   "metadata": {
    "slideshow": {
     "slide_type": "slide"
    }
   },
   "source": [
    "# Multiprocessing\n",
    "\n",
    "- Based on Threading\n",
    "- No GIL, no shared memory without extra work\n",
    "- Uses multicore well"
   ]
  },
  {
   "cell_type": "markdown",
   "metadata": {},
   "source": [
    "# Simple Multiprocessing example"
   ]
  },
  {
   "cell_type": "code",
   "execution_count": 24,
   "metadata": {},
   "outputs": [
    {
     "name": "stdout",
     "output_type": "stream",
     "text": [
      "Running...\n",
      "69644\n",
      "__main__\n",
      "69645\n",
      "69646\n",
      "__main__\n",
      "__main__\n",
      "69647\n",
      "__main__\n",
      "work took 1.3642287254333496 seconds\n"
     ]
    }
   ],
   "source": [
    "from multiprocessing import Process, cpu_count\n",
    "import time\n",
    "import os\n",
    "\n",
    "class MuchCPU(Process):\n",
    "    def run(self):\n",
    "        print(os.getpid())\n",
    "        print(__name__)\n",
    "        for i in range(20_000_000):\n",
    "            result = i * i\n",
    "\n",
    "if __name__ == '__main__':\n",
    "    print('Running...')\n",
    "    procs = [MuchCPU() for f in range(int(cpu_count()/2))]\n",
    "    # procs = [MuchCPU(), MuchCPU()]\n",
    "    t = time.time()\n",
    "    for p in procs:\n",
    "        p.start()\n",
    "#         p.join()\n",
    "    \n",
    "    for p in procs:\n",
    "        p.join()\n",
    "    \n",
    "    print('work took {} seconds'.format(time.time() - t))"
   ]
  },
  {
   "cell_type": "markdown",
   "metadata": {
    "slideshow": {
     "slide_type": "slide"
    }
   },
   "source": [
    "# Multiprocess synchronization and communication\n",
    "\n",
    "- Lock, Condition, Semaphore, Event\n",
    "- Queue & Pipe\n",
    "- Shared Memory"
   ]
  },
  {
   "cell_type": "markdown",
   "metadata": {},
   "source": [
    "### Multiprocessing basic shared memory"
   ]
  },
  {
   "cell_type": "code",
   "execution_count": 25,
   "metadata": {},
   "outputs": [
    {
     "name": "stdout",
     "output_type": "stream",
     "text": [
      "CPU times: user 202 ms, sys: 18.8 ms, total: 221 ms\n",
      "Wall time: 220 ms\n"
     ]
    }
   ],
   "source": [
    "%%time\n",
    "import random\n",
    "import multiprocessing\n",
    "\n",
    "ROWS = 100_000\n",
    "COLS = 8\n",
    "\n",
    "X = [random.random() for i in range(ROWS * COLS)]\n",
    "Y = [random.random() for i in range(ROWS * COLS)]"
   ]
  },
  {
   "cell_type": "code",
   "execution_count": 26,
   "metadata": {},
   "outputs": [],
   "source": [
    "def mularray(X, Y):\n",
    "    return [x * y for x, y in zip(X, Y)]"
   ]
  },
  {
   "cell_type": "markdown",
   "metadata": {},
   "source": [
    "Run #1: single-process"
   ]
  },
  {
   "cell_type": "code",
   "execution_count": 27,
   "metadata": {},
   "outputs": [
    {
     "name": "stdout",
     "output_type": "stream",
     "text": [
      "CPU times: user 62 ms, sys: 13.3 ms, total: 75.3 ms\n",
      "Wall time: 74.3 ms\n"
     ]
    }
   ],
   "source": [
    "%%time\n",
    "Z = mularray(X, Y)"
   ]
  },
  {
   "cell_type": "code",
   "execution_count": 28,
   "metadata": {},
   "outputs": [
    {
     "data": {
      "text/plain": [
       "[0.038740960268935615,\n",
       " 0.2978505778944264,\n",
       " 0.012724141542220525,\n",
       " 0.41284384286938475,\n",
       " 0.5828760953526163,\n",
       " 0.07589645731154566,\n",
       " 0.369558748926234,\n",
       " 0.015927502038287834,\n",
       " 0.022490655256077862,\n",
       " 0.0006157911262867638]"
      ]
     },
     "execution_count": 28,
     "metadata": {},
     "output_type": "execute_result"
    }
   ],
   "source": [
    "Z[:10]"
   ]
  },
  {
   "cell_type": "markdown",
   "metadata": {},
   "source": [
    "Run #2: multiprocess (pool)"
   ]
  },
  {
   "cell_type": "code",
   "execution_count": 29,
   "metadata": {},
   "outputs": [
    {
     "name": "stdout",
     "output_type": "stream",
     "text": [
      "CPU times: user 64.2 ms, sys: 49.3 ms, total: 114 ms\n",
      "Wall time: 161 ms\n"
     ]
    }
   ],
   "source": [
    "%%time\n",
    "offsets = [c * ROWS for c in range(COLS)]\n",
    "\n",
    "def pmul(offset):\n",
    "    return mularray(\n",
    "        X[offset:offset + ROWS], \n",
    "        Y[offset:offset + ROWS],\n",
    "    )\n",
    "\n",
    "Z = []\n",
    "with multiprocessing.Pool() as pool:\n",
    "    for Zpart in pool.map(pmul, offsets):\n",
    "        Z += Zpart\n",
    "    "
   ]
  },
  {
   "cell_type": "code",
   "execution_count": null,
   "metadata": {},
   "outputs": [],
   "source": [
    "Z[:10]"
   ]
  },
  {
   "cell_type": "markdown",
   "metadata": {},
   "source": [
    "Run #3: multiprocess (pool), shared memory"
   ]
  },
  {
   "cell_type": "code",
   "execution_count": 30,
   "metadata": {},
   "outputs": [
    {
     "data": {
      "text/plain": [
       "[0, 100000, 200000, 300000, 400000, 500000, 600000, 700000]"
      ]
     },
     "execution_count": 30,
     "metadata": {},
     "output_type": "execute_result"
    }
   ],
   "source": [
    "offsets"
   ]
  },
  {
   "cell_type": "code",
   "execution_count": 32,
   "metadata": {},
   "outputs": [],
   "source": [
    "sX = multiprocessing.Array('f', X)\n",
    "sY = multiprocessing.Array('f', Y)\n",
    "sZ = multiprocessing.Array('f', ROWS * COLS)"
   ]
  },
  {
   "cell_type": "code",
   "execution_count": 33,
   "metadata": {},
   "outputs": [
    {
     "name": "stdout",
     "output_type": "stream",
     "text": [
      "CPU times: user 18.8 ms, sys: 29.5 ms, total: 48.2 ms\n",
      "Wall time: 6.17 s\n"
     ]
    }
   ],
   "source": [
    "%%time\n",
    "def pmul(offset):\n",
    "    for i in range(offset, offset + ROWS):\n",
    "        sZ[i] = sX[i] * sY[i]\n",
    "        \n",
    "with multiprocessing.Pool() as pool:\n",
    "    pool.map(pmul, offsets)"
   ]
  },
  {
   "cell_type": "markdown",
   "metadata": {},
   "source": [
    "### Aside: if you _really_ want it fast, just use numpy (or better yet, numpy + multiprocessing)"
   ]
  },
  {
   "cell_type": "code",
   "execution_count": 34,
   "metadata": {},
   "outputs": [],
   "source": [
    "import numpy as np"
   ]
  },
  {
   "cell_type": "code",
   "execution_count": 35,
   "metadata": {},
   "outputs": [],
   "source": [
    "X = np.random.random(80000)\n",
    "Y = np.random.random(80000)"
   ]
  },
  {
   "cell_type": "code",
   "execution_count": 36,
   "metadata": {},
   "outputs": [
    {
     "name": "stdout",
     "output_type": "stream",
     "text": [
      "CPU times: user 9.63 ms, sys: 5.76 ms, total: 15.4 ms\n",
      "Wall time: 14.3 ms\n"
     ]
    }
   ],
   "source": [
    "%%time\n",
    "Z = X * Y"
   ]
  },
  {
   "cell_type": "markdown",
   "metadata": {},
   "source": [
    "# Lab\n",
    "\n",
    "Open [concurrency lab][multithreading-multiprocessing-lab]\n",
    "\n",
    "[multithreading-multiprocessing-lab]: ./multithreading-multiprocessing-lab.ipynb"
   ]
  },
  {
   "cell_type": "code",
   "execution_count": null,
   "metadata": {},
   "outputs": [],
   "source": []
  }
 ],
 "metadata": {
  "kernelspec": {
   "display_name": "Python 3",
   "language": "python",
   "name": "python3"
  },
  "language_info": {
   "codemirror_mode": {
    "name": "ipython",
    "version": 3
   },
   "file_extension": ".py",
   "mimetype": "text/x-python",
   "name": "python",
   "nbconvert_exporter": "python",
   "pygments_lexer": "ipython3",
   "version": "3.7.2"
  }
 },
 "nbformat": 4,
 "nbformat_minor": 2
}

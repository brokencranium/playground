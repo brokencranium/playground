{
 "cells": [
  {
   "cell_type": "markdown",
   "metadata": {},
   "source": [
    "# Object-Oriented Programming Introduction Lab\n",
    "\n",
    "For this lab, we'll start with the class we began in the demo:"
   ]
  },
  {
   "cell_type": "code",
   "execution_count": 1,
   "metadata": {},
   "outputs": [],
   "source": [
    "class Directory():\n",
    "    \"\"\"Keep a mapping of hosts to addresses.\"\"\"\n",
    "    \n",
    "    def __init__(self):\n",
    "        self.__hosts = {}\n",
    "        \n",
    "    def __repr__(self):\n",
    "        return f'<Directory of {len(self.__hosts)} hosts>'\n",
    "        \n",
    "    def __str__(self):\n",
    "        lines = [f'Directory of {len(self.__hosts)} hosts']\n",
    "        for host, addresses in self.__hosts.items():\n",
    "            lines.append(f' - {host} => {addresses}')\n",
    "        return '\\n'.join(lines)\n",
    "        \n",
    "    def add_mapping(self, name, address):\n",
    "        if name not in self.__hosts:\n",
    "            self._hosts[name] = set()\n",
    "        self.__hosts[name].add(address)\n",
    "        \n",
    "    def remove_mapping(self, name, address):\n",
    "        if name in self.__hosts:\n",
    "            self.__hosts[name].discard(address)\n",
    "            \n",
    "    def resolve(self, name):\n",
    "        if name in self.__hosts:\n",
    "            return self.__hosts[name]\n",
    "        else:\n",
    "            return 'NXDOMAIN'"
   ]
  },
  {
   "cell_type": "markdown",
   "metadata": {},
   "source": [
    "### Add a new method to the directory that will return the mapping as an /etc/hosts format\n",
    "\n",
    "Example:\n",
    "\n",
    "```\n",
    "192.168.1.0 swim\n",
    "192.168.1.1 swim\n",
    "192.168.1.2 bike\n",
    "192.168.1.3 run\n",
    "```"
   ]
  },
  {
   "cell_type": "code",
   "execution_count": 19,
   "metadata": {},
   "outputs": [],
   "source": [
    "class Directory():\n",
    "    \"\"\"Keep a mapping of hosts to addresses.\"\"\"\n",
    "    \n",
    "    def __init__(self):\n",
    "        self.__hosts = {}\n",
    "        \n",
    "    def __repr__(self):\n",
    "        return f'<Directory of {len(self.__hosts)} hosts>'\n",
    "        \n",
    "    def __str__(self):\n",
    "        lines = [f'Directory of {len(self.__hosts)} hosts']\n",
    "        for host, addresses in self.__hosts.items():\n",
    "            lines.append(f' - {host} => {addresses}')\n",
    "        return '\\n'.join(lines)\n",
    "    \n",
    "    def show_hosts(self):\n",
    "        for host, addresses in self.__hosts.items():\n",
    "            for address in addresses:\n",
    "                print(f'{address} {host}')\n",
    "        \n",
    "    def add_mapping(self, name, address):\n",
    "        if name not in self.__hosts:\n",
    "            self.__hosts[name] = set()\n",
    "        self.__hosts[name].add(address)\n",
    "        \n",
    "    def remove_mapping(self, name, address):\n",
    "        if name in self.__hosts:\n",
    "            self.__hosts[name].discard(address)\n",
    "            \n",
    "    def resolve(self, name):\n",
    "        if name in self.__hosts:\n",
    "            return self.__hosts[name]\n",
    "        else:\n",
    "            return 'NXDOMAIN'"
   ]
  },
  {
   "cell_type": "code",
   "execution_count": 20,
   "metadata": {},
   "outputs": [
    {
     "name": "stdout",
     "output_type": "stream",
     "text": [
      "192.168.0.1 swim\n",
      "192.168.0.2 swim\n",
      "192.168.0.4 bike\n",
      "192.168.0.3 bike\n",
      "192.168.0.5 run\n"
     ]
    }
   ],
   "source": [
    "d0 = Directory()\n",
    "d0.add_mapping('swim', '192.168.0.1')\n",
    "d0.add_mapping('swim', '192.168.0.2')\n",
    "d0.add_mapping('bike', '192.168.0.3')\n",
    "d0.add_mapping('bike', '192.168.0.4')\n",
    "d0.add_mapping('run', '192.168.0.5')\n",
    "d0.show_hosts()"
   ]
  },
  {
   "cell_type": "markdown",
   "metadata": {},
   "source": [
    "# Modify the `__init__` method to allow the directory to be initialized with a dictionary of {host: addresses} "
   ]
  },
  {
   "cell_type": "code",
   "execution_count": 23,
   "metadata": {},
   "outputs": [],
   "source": [
    "class Directory():\n",
    "    \"\"\"Keep a mapping of hosts to addresses.\"\"\"\n",
    "    \n",
    "    def __init__(self, dct=None):\n",
    "        self.__hosts = {}\n",
    "        if dct is not None:\n",
    "            # Make a private copy of the dct that was passed in\n",
    "            for host, addrs in dct.items():\n",
    "                self.__hosts[host] = set(addrs)\n",
    "        \n",
    "    def __repr__(self):\n",
    "        return f'<Directory of {len(self.__hosts)} hosts>'\n",
    "        \n",
    "    def __str__(self):\n",
    "        lines = [f'Directory of {len(self.__hosts)} hosts']\n",
    "        for host, addresses in self.__hosts.items():\n",
    "            lines.append(f' - {host} => {addresses}')\n",
    "        return '\\n'.join(lines)\n",
    "    \n",
    "    def show_hosts(self):\n",
    "        for host, addresses in self.__hosts.items():\n",
    "            for address in addresses:\n",
    "                print(f'{address} {host}')\n",
    "        \n",
    "    def add_mapping(self, name, address):\n",
    "        if name not in self.__hosts:\n",
    "            self.__hosts[name] = set()\n",
    "        self.__hosts[name].add(address)\n",
    "        \n",
    "    def remove_mapping(self, name, address):\n",
    "        if name in self.__hosts:\n",
    "            self.__hosts[name].discard(address)\n",
    "            \n",
    "    def resolve(self, name):\n",
    "        if name in self.__hosts:\n",
    "            return self.__hosts[name]\n",
    "        else:\n",
    "            return 'NXDOMAIN'"
   ]
  },
  {
   "cell_type": "code",
   "execution_count": 24,
   "metadata": {},
   "outputs": [
    {
     "name": "stdout",
     "output_type": "stream",
     "text": [
      "d0:\n",
      "192.168.0.1 swim\n",
      "192.168.0.2 swim\n",
      "192.168.0.4 bike\n",
      "192.168.0.3 bike\n",
      "192.168.0.5 run\n"
     ]
    }
   ],
   "source": [
    "d0 = Directory({\n",
    "    'swim': {'192.168.0.1', '192.168.0.2'},\n",
    "    'bike': {'192.168.0.3', '192.168.0.4'},\n",
    "    'run': {'192.168.0.5'}\n",
    "})\n",
    "print('d0:')\n",
    "d0.show_hosts()"
   ]
  },
  {
   "cell_type": "code",
   "execution_count": 25,
   "metadata": {},
   "outputs": [
    {
     "name": "stdout",
     "output_type": "stream",
     "text": [
      "d1:\n",
      "127.0.0.1 faramir\n"
     ]
    }
   ],
   "source": [
    "d1 = Directory({\n",
    "    'faramir': {'127.0.0.1'}\n",
    "})\n",
    "print('d1:')\n",
    "d1.show_hosts()"
   ]
  },
  {
   "cell_type": "code",
   "execution_count": 38,
   "metadata": {},
   "outputs": [],
   "source": [
    "class Directory():\n",
    "    \"\"\"Keep a mapping of hosts to addresses.\"\"\"\n",
    "    \n",
    "    def __init__(self, dct=None):\n",
    "        if dct is None:\n",
    "            dct = {}\n",
    "        # This is a bad idea\n",
    "        self.hosts = dct\n",
    "        \n",
    "    def __repr__(self):\n",
    "        return f'<Directory of {len(self.hosts)} hosts>'\n",
    "        \n",
    "    def __str__(self):\n",
    "        lines = [f'Directory of {len(self.hosts)} hosts']\n",
    "        for host, addresses in self.hosts.items():\n",
    "            lines.append(f' - {host} => {addresses}')\n",
    "        return '\\n'.join(lines)\n",
    "    \n",
    "    def show_hosts(self):\n",
    "        for host, addresses in self.hosts.items():\n",
    "            for address in addresses:\n",
    "                print(f'{address} {host}')\n",
    "        \n",
    "    def add_mapping(self, name, address):\n",
    "        if name not in self.hosts:\n",
    "            self.hosts[name] = set()\n",
    "        self.hosts[name].add(address)\n",
    "        \n",
    "    def remove_mapping(self, name, address):\n",
    "        if name in self.hosts:\n",
    "            self.hosts[name].discard(address)\n",
    "            \n",
    "    def resolve(self, name):\n",
    "        if name in self.hosts:\n",
    "            return self.hosts[name]\n",
    "        else:\n",
    "            return 'NXDOMAIN'"
   ]
  },
  {
   "cell_type": "code",
   "execution_count": 39,
   "metadata": {},
   "outputs": [
    {
     "name": "stdout",
     "output_type": "stream",
     "text": [
      "192.168.0.1 swim\n"
     ]
    }
   ],
   "source": [
    "x = {'swim': {'192.168.0.1'}}\n",
    "d0 = Directory(x)\n",
    "d0.show_hosts()"
   ]
  },
  {
   "cell_type": "code",
   "execution_count": 41,
   "metadata": {},
   "outputs": [
    {
     "name": "stdout",
     "output_type": "stream",
     "text": [
      "192.168.0.1 swim\n",
      "something else bike\n"
     ]
    }
   ],
   "source": [
    "x['bike'] = {'something else'}\n",
    "d0.show_hosts()"
   ]
  },
  {
   "cell_type": "code",
   "execution_count": 36,
   "metadata": {},
   "outputs": [
    {
     "name": "stdout",
     "output_type": "stream",
     "text": [
      "192.168.0.1 swim\n",
      "192.168.0.2 swim\n",
      "192.168.0.4 bike\n",
      "192.168.0.3 bike\n",
      "192.168.0.5 run\n"
     ]
    }
   ],
   "source": [
    "d1 = Directory()\n",
    "d1.show_hosts()"
   ]
  },
  {
   "cell_type": "code",
   "execution_count": 32,
   "metadata": {},
   "outputs": [
    {
     "data": {
      "text/plain": [
       "4428994096"
      ]
     },
     "execution_count": 32,
     "metadata": {},
     "output_type": "execute_result"
    }
   ],
   "source": [
    "id(d0.hosts)"
   ]
  },
  {
   "cell_type": "code",
   "execution_count": 33,
   "metadata": {},
   "outputs": [
    {
     "data": {
      "text/plain": [
       "4428994096"
      ]
     },
     "execution_count": 33,
     "metadata": {},
     "output_type": "execute_result"
    }
   ],
   "source": [
    "id(d1.hosts)"
   ]
  }
 ],
 "metadata": {
  "kernelspec": {
   "display_name": "Python 3",
   "language": "python",
   "name": "python3"
  },
  "language_info": {
   "codemirror_mode": {
    "name": "ipython",
    "version": 3
   },
   "file_extension": ".py",
   "mimetype": "text/x-python",
   "name": "python",
   "nbconvert_exporter": "python",
   "pygments_lexer": "ipython3",
   "version": "3.7.2"
  }
 },
 "nbformat": 4,
 "nbformat_minor": 2
}

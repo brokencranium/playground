{
 "cells": [
  {
   "cell_type": "markdown",
   "metadata": {},
   "source": [
    "# Jupyter, briefly\n",
    "\n",
    "- Web-based interface to several different programming languages, but started with Python\n",
    "- The Jupyter **server** is what started when you ran `jupyter notebook`\n",
    "- When you open (or create) a Notebook (`.ipynb`) file in Jupyter, the server starts a **kernel** (a Python interpreter dedicated to that notebook)\n",
    "- Notebooks are organized into **cells**, which may be either code (Python) or Markdown cells.\n",
    "- When you execute a Python cell, it is sent to the kernel, executed, and the notebook then shows the output of running the cell\n",
    "\n",
    "## Why Jupyter\n",
    "\n",
    "- Training (lets you walk through examples, change things, and keep a record of what you did)\n",
    "- Exploration of data / APIs where it's good to keep a record of what you did (data scientists love their notebooks!)\n",
    "- Prototyping an algorithm to be \"productionalized\" later\n",
    "\n",
    "## Why not Jupyter\n",
    "\n",
    "- Running in production\n",
    "- Not great with source control (notebooks are stored as JSON, which does not diff well)\n",
    "\n",
    "## \"Restart and run all,\" or it didn't happen\n",
    "\n",
    "- You can run cells out of order as you're exploring. It's a good idea to run everything top to bottom when you're done to make sure you didn't delete any steps"
   ]
  },
  {
   "cell_type": "markdown",
   "metadata": {},
   "source": [
    "## Getting help\n",
    "\n",
    "#### See possible completions with `<TAB>`\n",
    "\n",
    "```ipython\n",
    "In [0]: from email import <TAB>\n",
    "```"
   ]
  },
  {
   "cell_type": "code",
   "execution_count": 3,
   "metadata": {},
   "outputs": [],
   "source": [
    "from email.mime.multipart import MIMEMultipart"
   ]
  },
  {
   "cell_type": "code",
   "execution_count": 6,
   "metadata": {},
   "outputs": [
    {
     "data": {
      "text/plain": [
       "<function email.message.Message.as_bytes(self, unixfrom=False, policy=None)>"
      ]
     },
     "execution_count": 6,
     "metadata": {},
     "output_type": "execute_result"
    }
   ],
   "source": [
    "MIMEMultipart.as_bytes"
   ]
  },
  {
   "cell_type": "markdown",
   "metadata": {},
   "source": [
    "#### See function arguments by holding down shift and hitting `<TAB>`:\n",
    "    \n",
    "- one time: pops up simplified help\n",
    "- two times: expands simplified help\n",
    "- four times: brings up full help for function you're calling\n"
   ]
  },
  {
   "cell_type": "code",
   "execution_count": null,
   "metadata": {},
   "outputs": [],
   "source": [
    "import os"
   ]
  },
  {
   "cell_type": "code",
   "execution_count": null,
   "metadata": {},
   "outputs": [],
   "source": [
    "os.open()"
   ]
  },
  {
   "cell_type": "code",
   "execution_count": null,
   "metadata": {},
   "outputs": [],
   "source": [
    "os?"
   ]
  },
  {
   "cell_type": "markdown",
   "metadata": {},
   "source": [
    "\n",
    "#### Bring up help on an object\n",
    "\n",
    "To bring up help:\n",
    "\n",
    "```ipython\n",
    "In [0]: my_function?\n",
    "```\n",
    "\n",
    "To bring up help with source code if available:\n",
    "\n",
    "```ipython\n",
    "In [0]: my_function??\n",
    "```"
   ]
  },
  {
   "cell_type": "code",
   "execution_count": 7,
   "metadata": {},
   "outputs": [],
   "source": [
    "def fun():\n",
    "    'Docstring'\n",
    "    print('This is my function')"
   ]
  },
  {
   "cell_type": "code",
   "execution_count": 8,
   "metadata": {},
   "outputs": [
    {
     "name": "stdout",
     "output_type": "stream",
     "text": [
      "Help on function fun in module __main__:\n",
      "\n",
      "fun()\n",
      "    Docstring\n",
      "\n"
     ]
    }
   ],
   "source": [
    "help(fun)"
   ]
  },
  {
   "cell_type": "code",
   "execution_count": 9,
   "metadata": {},
   "outputs": [],
   "source": [
    "fun?"
   ]
  },
  {
   "cell_type": "code",
   "execution_count": 10,
   "metadata": {},
   "outputs": [],
   "source": [
    "fun??"
   ]
  },
  {
   "cell_type": "markdown",
   "metadata": {},
   "source": [
    "#### To get a list of all the %magic commands\n",
    "\n",
    "```ipython\n",
    "In [0]: %magic\n",
    "```"
   ]
  },
  {
   "cell_type": "code",
   "execution_count": 11,
   "metadata": {},
   "outputs": [],
   "source": [
    "%magic"
   ]
  },
  {
   "cell_type": "code",
   "execution_count": 16,
   "metadata": {},
   "outputs": [],
   "source": [
    "magic"
   ]
  },
  {
   "cell_type": "markdown",
   "metadata": {},
   "source": [
    "# Interacting with the shell"
   ]
  },
  {
   "cell_type": "code",
   "execution_count": 18,
   "metadata": {},
   "outputs": [
    {
     "name": "stdout",
     "output_type": "stream",
     "text": [
      "['rick446']\n"
     ]
    }
   ],
   "source": [
    "x = !whoami\n",
    "print(x)"
   ]
  },
  {
   "cell_type": "code",
   "execution_count": 19,
   "metadata": {},
   "outputs": [
    {
     "name": "stdout",
     "output_type": "stream",
     "text": [
      "-rw-r--r--  1 rick446  staff     5868 Mar  6 06:36 Setup-Pip.ipynb\r\n",
      "-rw-r--r--  1 rick446  staff     2852 Feb 23 22:46 advanced-data-types-lab.ipynb\r\n",
      "-rw-r--r--@ 1 rick446  staff    44185 Feb 23 22:46 advanced-data-types.ipynb\r\n",
      "-rw-r--r--  1 rick446  staff     2862 Feb 22 23:51 ansible-modules-lab.ipynb\r\n",
      "-rw-r--r--  1 rick446  staff     5363 Feb 22 23:51 ansible-modules.ipynb\r\n",
      "-rw-r--r--  1 rick446  staff     4472 Feb 23 00:01 ansible-overview-lab.ipynb\r\n",
      "-rw-r--r--  1 rick446  staff    27640 Feb 22 23:51 ansible-overview.ipynb\r\n",
      "-rw-r--r--  1 rick446  staff    16814 Mar  6 17:22 boto3-lab-solution.ipynb\r\n",
      "-rw-r--r--  1 rick446  staff     2658 Feb 23 04:50 boto3-lab.ipynb\r\n",
      "-rw-r--r--  1 rick446  staff   240197 Feb 21 01:41 boto3.ipynb\r\n",
      "-rw-r--r--  1 rick446  staff     1314 Feb 27 07:13 celery-lab.ipynb\r\n",
      "-rw-r--r--@ 1 rick446  staff    23555 Feb 27 07:14 celery.ipynb\r\n",
      "-rw-r--r--  1 rick446  staff     2498 Feb 23 22:16 class-productionalizing-notebooks.ipynb\r\n",
      "-rw-r--r--  1 rick446  staff     4608 Feb 27 07:42 class-python-sysadmin.ipynb\r\n",
      "-rw-r--r--  1 rick446  staff     3058 Mar  5 15:15 cli-lab-solution.ipynb\r\n",
      "-rw-r--r--  1 rick446  staff     1396 Feb 23 04:17 cli-lab.ipynb\r\n",
      "-rw-r--r--  1 rick446  staff    14205 Feb 21 00:00 cli.ipynb\r\n",
      "-rw-r--r--  1 rick446  staff     2306 Feb 23 22:56 closures-lab.ipynb\r\n",
      "-rw-r--r--@ 1 rick446  staff    21224 Feb 23 22:56 closures.ipynb\r\n",
      "-rw-r--r--  1 rick446  staff     2414 Feb 27 06:55 context-lab.ipynb\r\n",
      "-rw-r--r--  1 rick446  staff     8594 Feb 27 06:54 context.ipynb\r\n",
      "-rw-r--r--  1 rick446  staff     5149 Mar  4 12:05 core-syntax-lab-solution.ipynb\r\n",
      "-rw-r--r--  1 rick446  staff     2395 Jan 28 07:11 core-syntax-lab.ipynb\r\n",
      "-rw-r--r--  1 rick446  staff    53920 Feb  7 00:15 core-syntax.ipynb\r\n",
      "-rw-r--r--  1 rick446  staff    14536 Mar  5 11:24 dates-lab-solution.ipynb\r\n",
      "-rw-r--r--  1 rick446  staff   313361 Feb 23 03:37 dates-lab.ipynb\r\n",
      "-rw-r--r--  1 rick446  staff    30806 Feb 20 21:48 dates.ipynb\r\n",
      "-rw-r--r--  1 rick446  staff     5810 Mar  6 11:41 fabric-lab-solution.ipynb\r\n",
      "-rw-r--r--  1 rick446  staff     2286 Feb 23 04:59 fabric-lab.ipynb\r\n",
      "-rw-r--r--  1 rick446  staff    54205 Feb 23 04:57 fabric.ipynb\r\n",
      "-rw-r--r--  1 rick446  staff     5862 Mar  6 14:04 flask-api-lab-solution.ipynb\r\n",
      "-rw-r--r--  1 rick446  staff     1109 Feb 23 05:01 flask-api-lab.ipynb\r\n",
      "-rw-r--r--  1 rick446  staff    38609 Mar  6 12:48 flask-api.ipynb\r\n",
      "-rw-r--r--  1 rick446  staff     7009 Mar  6 14:58 flask-ui-lab-solution.ipynb\r\n",
      "-rw-r--r--  1 rick446  staff      766 Feb 22 03:49 flask-ui-lab.ipynb\r\n",
      "-rw-r--r--  1 rick446  staff    15176 Feb 22 03:49 flask-ui.ipynb\r\n",
      "-rw-r--r--  1 rick446  staff     2317 Feb 23 22:53 functional-lab.ipynb\r\n",
      "-rw-r--r--@ 1 rick446  staff    27398 Feb 23 22:52 functional.ipynb\r\n",
      "-rw-r--r--  1 rick446  staff    41605 Feb 19 03:18 git-workflow.ipynb\r\n",
      "-rw-r--r--  1 rick446  staff     3854 Feb 19 22:00 github-lab.ipynb\r\n",
      "-rw-r--r--  1 rick446  staff     2044 Feb 27 06:50 iteration-lab.ipynb\r\n",
      "-rw-r--r--  1 rick446  staff    23100 Feb 27 06:49 iteration.ipynb\r\n",
      "-rw-r--r--  1 rick446  staff     4517 Mar  5 12:12 jinja2-lab-solution.ipynb\r\n",
      "-rw-r--r--  1 rick446  staff     4517 Feb 23 04:11 jinja2-lab.ipynb\r\n",
      "-rw-r--r--  1 rick446  staff    28214 Feb 20 23:23 jinja2.ipynb\r\n",
      "-rw-r--r--  1 rick446  staff    11309 Mar  7 09:51 jupyter.ipynb\r\n",
      "-rw-r--r--  1 rick446  staff     5635 Mar  5 09:49 logging-lab-solution.ipynb\r\n",
      "-rw-r--r--  1 rick446  staff     1428 Feb  7 01:13 logging-lab.ipynb\r\n",
      "-rw-r--r--@ 1 rick446  staff    15406 Mar  2 07:05 logging.ipynb\r\n",
      "-rw-r--r--  1 rick446  staff     6288 Feb 27 06:41 macys-project.ipynb\r\n",
      "-rw-r--r--  1 rick446  staff    17211 Feb 27 06:40 ml-productionalization-workflow.ipynb\r\n",
      "-rw-r--r--  1 rick446  staff     2584 Feb 22 02:38 multithreading-multiprocessing-lab.ipynb\r\n",
      "-rw-r--r--  1 rick446  staff    18830 Feb 22 02:38 multithreading-multiprocessing.ipynb\r\n",
      "-rw-r--r--  1 rick446  staff     6120 Feb 27 07:27 numpy-lab.ipynb\r\n",
      "-rw-r--r--  1 rick446  staff    51869 Feb 27 07:27 numpy.ipynb\r\n",
      "-rw-r--r--@ 1 rick446  staff     4437 Mar  7 09:26 nutanix-intermediate-python.ipynb\r\n",
      "-rw-r--r--  1 rick446  staff     1762 Feb 23 23:23 oop-decorators-lab.ipynb\r\n",
      "-rw-r--r--@ 1 rick446  staff    31724 Feb 23 23:23 oop-decorators.ipynb\r\n",
      "-rw-r--r--  1 rick446  staff     1495 Feb 23 04:28 oop-inheritance-lab.ipynb\r\n",
      "-rw-r--r--  1 rick446  staff    14127 Feb 21 00:43 oop-inheritance.ipynb\r\n",
      "-rw-r--r--  1 rick446  staff     2694 Mar  5 19:16 oop-intro-lab.ipynb\r\n",
      "-rw-r--r--  1 rick446  staff    43929 Mar  5 19:00 oop-intro-ml.ipynb\r\n",
      "-rw-r--r--  1 rick446  staff    19196 Mar  5 19:14 oop-intro.ipynb\r\n",
      "-rw-r--r--  1 rick446  staff     3658 Feb 23 23:20 oop-magic-lab.ipynb\r\n",
      "-rw-r--r--@ 1 rick446  staff    19132 Feb 23 23:16 oop-magic.ipynb\r\n",
      "-rw-r--r--  1 rick446  staff     2657 Feb 19 21:47 packaging-lab.ipynb\r\n",
      "-rw-r--r--  1 rick446  staff    71596 Feb 14 22:25 packaging.ipynb\r\n",
      "-rw-r--r--  1 rick446  staff     6030 Feb 27 07:42 pandas-lab.ipynb\r\n",
      "-rw-r--r--  1 rick446  staff  4565012 Mar  7 08:52 pandas.ipynb\r\n",
      "-rw-r--r--  1 rick446  staff     5223 Feb 27 07:06 pdb-lab.ipynb\r\n",
      "-rw-r--r--@ 1 rick446  staff    30496 Mar  2 08:06 pdb.ipynb\r\n",
      "-rw-r--r--  1 rick446  staff      555 Feb  6 03:15 projects.ipynb\r\n",
      "-rw-r--r--  1 rick446  staff    12147 Feb 23 03:22 python-sysadmin-project.ipynb\r\n",
      "-rw-r--r--  1 rick446  staff    75716 Feb 18 22:01 recommendation-engine-2.ipynb\r\n",
      "-rw-r--r--  1 rick446  staff   103799 Feb 15 22:47 recommendation-engine.ipynb\r\n",
      "-rw-r--r--  1 rick446  staff     8521 Mar  6 10:47 requests-lab-solution.ipynb\r\n",
      "-rw-r--r--  1 rick446  staff     1910 Feb 23 04:51 requests-lab.ipynb\r\n",
      "-rw-r--r--  1 rick446  staff    44576 Feb 21 02:18 requests.ipynb\r\n",
      "-rw-r--r--  1 rick446  staff     3470 Feb 27 07:35 scipy-lab.ipynb\r\n",
      "-rw-r--r--  1 rick446  staff   530360 Feb 27 07:33 scipy.ipynb\r\n",
      "-rw-r--r--  1 rick446  staff     1731 Feb 21 00:19 shell-scripts-lab.ipynb\r\n",
      "-rw-r--r--  1 rick446  staff   107116 Feb 23 04:13 shell-scripts.ipynb\r\n",
      "-rw-r--r--  1 rick446  staff    49436 Feb 21 02:41 snmp.ipynb\r\n",
      "-rw-r--r--  1 rick446  staff     1113 Feb 22 01:32 socket-lab.ipynb\r\n",
      "-rw-r--r--  1 rick446  staff    15023 Feb 23 05:00 socket.ipynb\r\n",
      "-rw-r--r--  1 rick446  staff    22574 Mar  4 17:34 structured-text-lab-solution.ipynb\r\n",
      "-rw-r--r--  1 rick446  staff     2604 Feb  7 01:07 structured-text-lab.ipynb\r\n",
      "-rw-r--r--  1 rick446  staff   521497 Feb  7 01:01 structured-text.ipynb\r\n",
      "-rw-r--r--  1 rick446  staff    81532 Mar  4 15:59 text-processing-lab-solution.ipynb\r\n",
      "-rw-r--r--  1 rick446  staff     2293 Feb  7 00:20 text-processing-lab.ipynb\r\n",
      "-rw-r--r--  1 rick446  staff    42325 Feb  7 00:18 text-processing.ipynb\r\n",
      "-rw-r--r--  1 rick446  staff     1860 Feb 23 04:28 unittest-lab.ipynb\r\n",
      "-rw-r--r--  1 rick446  staff   145629 Feb 19 21:48 unittest.ipynb\r\n",
      "-rw-r--r--  1 rick446  staff     2567 Feb 21 21:24 virtualenv-lab.ipynb\r\n",
      "-rw-r--r--  1 rick446  staff    64974 Feb 21 21:24 virtualenv.ipynb\r\n"
     ]
    }
   ],
   "source": [
    "pattern = '*.ipynb'\n",
    "!ls -l {pattern}"
   ]
  },
  {
   "cell_type": "code",
   "execution_count": 20,
   "metadata": {},
   "outputs": [],
   "source": [
    "pattern = '*.ipynb'\n",
    "filenames = !ls -l {pattern}"
   ]
  },
  {
   "cell_type": "code",
   "execution_count": 21,
   "metadata": {},
   "outputs": [
    {
     "data": {
      "text/plain": [
       "['-rw-r--r--  1 rick446  staff     5868 Mar  6 06:36 Setup-Pip.ipynb',\n",
       " '-rw-r--r--  1 rick446  staff     2852 Feb 23 22:46 advanced-data-types-lab.ipynb',\n",
       " '-rw-r--r--@ 1 rick446  staff    44185 Feb 23 22:46 advanced-data-types.ipynb',\n",
       " '-rw-r--r--  1 rick446  staff     2862 Feb 22 23:51 ansible-modules-lab.ipynb',\n",
       " '-rw-r--r--  1 rick446  staff     5363 Feb 22 23:51 ansible-modules.ipynb',\n",
       " '-rw-r--r--  1 rick446  staff     4472 Feb 23 00:01 ansible-overview-lab.ipynb',\n",
       " '-rw-r--r--  1 rick446  staff    27640 Feb 22 23:51 ansible-overview.ipynb',\n",
       " '-rw-r--r--  1 rick446  staff    16814 Mar  6 17:22 boto3-lab-solution.ipynb',\n",
       " '-rw-r--r--  1 rick446  staff     2658 Feb 23 04:50 boto3-lab.ipynb',\n",
       " '-rw-r--r--  1 rick446  staff   240197 Feb 21 01:41 boto3.ipynb',\n",
       " '-rw-r--r--  1 rick446  staff     1314 Feb 27 07:13 celery-lab.ipynb',\n",
       " '-rw-r--r--@ 1 rick446  staff    23555 Feb 27 07:14 celery.ipynb',\n",
       " '-rw-r--r--  1 rick446  staff     2498 Feb 23 22:16 class-productionalizing-notebooks.ipynb',\n",
       " '-rw-r--r--  1 rick446  staff     4608 Feb 27 07:42 class-python-sysadmin.ipynb',\n",
       " '-rw-r--r--  1 rick446  staff     3058 Mar  5 15:15 cli-lab-solution.ipynb',\n",
       " '-rw-r--r--  1 rick446  staff     1396 Feb 23 04:17 cli-lab.ipynb',\n",
       " '-rw-r--r--  1 rick446  staff    14205 Feb 21 00:00 cli.ipynb',\n",
       " '-rw-r--r--  1 rick446  staff     2306 Feb 23 22:56 closures-lab.ipynb',\n",
       " '-rw-r--r--@ 1 rick446  staff    21224 Feb 23 22:56 closures.ipynb',\n",
       " '-rw-r--r--  1 rick446  staff     2414 Feb 27 06:55 context-lab.ipynb',\n",
       " '-rw-r--r--  1 rick446  staff     8594 Feb 27 06:54 context.ipynb',\n",
       " '-rw-r--r--  1 rick446  staff     5149 Mar  4 12:05 core-syntax-lab-solution.ipynb',\n",
       " '-rw-r--r--  1 rick446  staff     2395 Jan 28 07:11 core-syntax-lab.ipynb',\n",
       " '-rw-r--r--  1 rick446  staff    53920 Feb  7 00:15 core-syntax.ipynb',\n",
       " '-rw-r--r--  1 rick446  staff    14536 Mar  5 11:24 dates-lab-solution.ipynb',\n",
       " '-rw-r--r--  1 rick446  staff   313361 Feb 23 03:37 dates-lab.ipynb',\n",
       " '-rw-r--r--  1 rick446  staff    30806 Feb 20 21:48 dates.ipynb',\n",
       " '-rw-r--r--  1 rick446  staff     5810 Mar  6 11:41 fabric-lab-solution.ipynb',\n",
       " '-rw-r--r--  1 rick446  staff     2286 Feb 23 04:59 fabric-lab.ipynb',\n",
       " '-rw-r--r--  1 rick446  staff    54205 Feb 23 04:57 fabric.ipynb',\n",
       " '-rw-r--r--  1 rick446  staff     5862 Mar  6 14:04 flask-api-lab-solution.ipynb',\n",
       " '-rw-r--r--  1 rick446  staff     1109 Feb 23 05:01 flask-api-lab.ipynb',\n",
       " '-rw-r--r--  1 rick446  staff    38609 Mar  6 12:48 flask-api.ipynb',\n",
       " '-rw-r--r--  1 rick446  staff     7009 Mar  6 14:58 flask-ui-lab-solution.ipynb',\n",
       " '-rw-r--r--  1 rick446  staff      766 Feb 22 03:49 flask-ui-lab.ipynb',\n",
       " '-rw-r--r--  1 rick446  staff    15176 Feb 22 03:49 flask-ui.ipynb',\n",
       " '-rw-r--r--  1 rick446  staff     2317 Feb 23 22:53 functional-lab.ipynb',\n",
       " '-rw-r--r--@ 1 rick446  staff    27398 Feb 23 22:52 functional.ipynb',\n",
       " '-rw-r--r--  1 rick446  staff    41605 Feb 19 03:18 git-workflow.ipynb',\n",
       " '-rw-r--r--  1 rick446  staff     3854 Feb 19 22:00 github-lab.ipynb',\n",
       " '-rw-r--r--  1 rick446  staff     2044 Feb 27 06:50 iteration-lab.ipynb',\n",
       " '-rw-r--r--  1 rick446  staff    23100 Feb 27 06:49 iteration.ipynb',\n",
       " '-rw-r--r--  1 rick446  staff     4517 Mar  5 12:12 jinja2-lab-solution.ipynb',\n",
       " '-rw-r--r--  1 rick446  staff     4517 Feb 23 04:11 jinja2-lab.ipynb',\n",
       " '-rw-r--r--  1 rick446  staff    28214 Feb 20 23:23 jinja2.ipynb',\n",
       " '-rw-r--r--  1 rick446  staff    11309 Mar  7 09:51 jupyter.ipynb',\n",
       " '-rw-r--r--  1 rick446  staff     5635 Mar  5 09:49 logging-lab-solution.ipynb',\n",
       " '-rw-r--r--  1 rick446  staff     1428 Feb  7 01:13 logging-lab.ipynb',\n",
       " '-rw-r--r--@ 1 rick446  staff    15406 Mar  2 07:05 logging.ipynb',\n",
       " '-rw-r--r--  1 rick446  staff     6288 Feb 27 06:41 macys-project.ipynb',\n",
       " '-rw-r--r--  1 rick446  staff    17211 Feb 27 06:40 ml-productionalization-workflow.ipynb',\n",
       " '-rw-r--r--  1 rick446  staff     2584 Feb 22 02:38 multithreading-multiprocessing-lab.ipynb',\n",
       " '-rw-r--r--  1 rick446  staff    18830 Feb 22 02:38 multithreading-multiprocessing.ipynb',\n",
       " '-rw-r--r--  1 rick446  staff     6120 Feb 27 07:27 numpy-lab.ipynb',\n",
       " '-rw-r--r--  1 rick446  staff    51869 Feb 27 07:27 numpy.ipynb',\n",
       " '-rw-r--r--@ 1 rick446  staff     4437 Mar  7 09:26 nutanix-intermediate-python.ipynb',\n",
       " '-rw-r--r--  1 rick446  staff     1762 Feb 23 23:23 oop-decorators-lab.ipynb',\n",
       " '-rw-r--r--@ 1 rick446  staff    31724 Feb 23 23:23 oop-decorators.ipynb',\n",
       " '-rw-r--r--  1 rick446  staff     1495 Feb 23 04:28 oop-inheritance-lab.ipynb',\n",
       " '-rw-r--r--  1 rick446  staff    14127 Feb 21 00:43 oop-inheritance.ipynb',\n",
       " '-rw-r--r--  1 rick446  staff     2694 Mar  5 19:16 oop-intro-lab.ipynb',\n",
       " '-rw-r--r--  1 rick446  staff    43929 Mar  5 19:00 oop-intro-ml.ipynb',\n",
       " '-rw-r--r--  1 rick446  staff    19196 Mar  5 19:14 oop-intro.ipynb',\n",
       " '-rw-r--r--  1 rick446  staff     3658 Feb 23 23:20 oop-magic-lab.ipynb',\n",
       " '-rw-r--r--@ 1 rick446  staff    19132 Feb 23 23:16 oop-magic.ipynb',\n",
       " '-rw-r--r--  1 rick446  staff     2657 Feb 19 21:47 packaging-lab.ipynb',\n",
       " '-rw-r--r--  1 rick446  staff    71596 Feb 14 22:25 packaging.ipynb',\n",
       " '-rw-r--r--  1 rick446  staff     6030 Feb 27 07:42 pandas-lab.ipynb',\n",
       " '-rw-r--r--  1 rick446  staff  4565012 Mar  7 08:52 pandas.ipynb',\n",
       " '-rw-r--r--  1 rick446  staff     5223 Feb 27 07:06 pdb-lab.ipynb',\n",
       " '-rw-r--r--@ 1 rick446  staff    30496 Mar  2 08:06 pdb.ipynb',\n",
       " '-rw-r--r--  1 rick446  staff      555 Feb  6 03:15 projects.ipynb',\n",
       " '-rw-r--r--  1 rick446  staff    12147 Feb 23 03:22 python-sysadmin-project.ipynb',\n",
       " '-rw-r--r--  1 rick446  staff    75716 Feb 18 22:01 recommendation-engine-2.ipynb',\n",
       " '-rw-r--r--  1 rick446  staff   103799 Feb 15 22:47 recommendation-engine.ipynb',\n",
       " '-rw-r--r--  1 rick446  staff     8521 Mar  6 10:47 requests-lab-solution.ipynb',\n",
       " '-rw-r--r--  1 rick446  staff     1910 Feb 23 04:51 requests-lab.ipynb',\n",
       " '-rw-r--r--  1 rick446  staff    44576 Feb 21 02:18 requests.ipynb',\n",
       " '-rw-r--r--  1 rick446  staff     3470 Feb 27 07:35 scipy-lab.ipynb',\n",
       " '-rw-r--r--  1 rick446  staff   530360 Feb 27 07:33 scipy.ipynb',\n",
       " '-rw-r--r--  1 rick446  staff     1731 Feb 21 00:19 shell-scripts-lab.ipynb',\n",
       " '-rw-r--r--  1 rick446  staff   107116 Feb 23 04:13 shell-scripts.ipynb',\n",
       " '-rw-r--r--  1 rick446  staff    49436 Feb 21 02:41 snmp.ipynb',\n",
       " '-rw-r--r--  1 rick446  staff     1113 Feb 22 01:32 socket-lab.ipynb',\n",
       " '-rw-r--r--  1 rick446  staff    15023 Feb 23 05:00 socket.ipynb',\n",
       " '-rw-r--r--  1 rick446  staff    22574 Mar  4 17:34 structured-text-lab-solution.ipynb',\n",
       " '-rw-r--r--  1 rick446  staff     2604 Feb  7 01:07 structured-text-lab.ipynb',\n",
       " '-rw-r--r--  1 rick446  staff   521497 Feb  7 01:01 structured-text.ipynb',\n",
       " '-rw-r--r--  1 rick446  staff    81532 Mar  4 15:59 text-processing-lab-solution.ipynb',\n",
       " '-rw-r--r--  1 rick446  staff     2293 Feb  7 00:20 text-processing-lab.ipynb',\n",
       " '-rw-r--r--  1 rick446  staff    42325 Feb  7 00:18 text-processing.ipynb',\n",
       " '-rw-r--r--  1 rick446  staff     1860 Feb 23 04:28 unittest-lab.ipynb',\n",
       " '-rw-r--r--  1 rick446  staff   145629 Feb 19 21:48 unittest.ipynb',\n",
       " '-rw-r--r--  1 rick446  staff     2567 Feb 21 21:24 virtualenv-lab.ipynb',\n",
       " '-rw-r--r--  1 rick446  staff    64974 Feb 21 21:24 virtualenv.ipynb']"
      ]
     },
     "execution_count": 21,
     "metadata": {},
     "output_type": "execute_result"
    }
   ],
   "source": [
    "filenames"
   ]
  },
  {
   "cell_type": "code",
   "execution_count": 22,
   "metadata": {},
   "outputs": [
    {
     "name": "stdout",
     "output_type": "stream",
     "text": [
      "This is a little script\n",
      "Iteration 1\n",
      "Iteration 2\n",
      "Iteration 3\n"
     ]
    }
   ],
   "source": [
    "%%bash\n",
    "echo \"This is a little script\"\n",
    "for i in $(seq 3); do\n",
    "    echo \"Iteration\" $i\n",
    "done"
   ]
  },
  {
   "cell_type": "code",
   "execution_count": null,
   "metadata": {},
   "outputs": [],
   "source": [
    "magic"
   ]
  },
  {
   "cell_type": "code",
   "execution_count": 23,
   "metadata": {},
   "outputs": [
    {
     "data": {
      "text/plain": [
       "['Does this work']"
      ]
     },
     "execution_count": 23,
     "metadata": {},
     "output_type": "execute_result"
    }
   ],
   "source": [
    "%%! /bin/bash  #!/bin/bash\n",
    "echo \"Does this work\""
   ]
  },
  {
   "cell_type": "code",
   "execution_count": 24,
   "metadata": {},
   "outputs": [
    {
     "data": {
      "text/plain": [
       "'/Users/rick446/src/arborian-classes/src'"
      ]
     },
     "execution_count": 24,
     "metadata": {},
     "output_type": "execute_result"
    }
   ],
   "source": [
    "%pwd"
   ]
  },
  {
   "cell_type": "code",
   "execution_count": 25,
   "metadata": {},
   "outputs": [
    {
     "name": "stdout",
     "output_type": "stream",
     "text": [
      "/Users/rick446/src/arborian-classes\n"
     ]
    },
    {
     "data": {
      "text/plain": [
       "['~/src/arborian-classes/src']"
      ]
     },
     "execution_count": 25,
     "metadata": {},
     "output_type": "execute_result"
    }
   ],
   "source": [
    "pushd .."
   ]
  },
  {
   "cell_type": "code",
   "execution_count": 26,
   "metadata": {},
   "outputs": [
    {
     "name": "stdout",
     "output_type": "stream",
     "text": [
      "/Users/rick446/src/arborian-classes/src\n",
      "popd -> ~/src/arborian-classes/src\n"
     ]
    }
   ],
   "source": [
    "popd"
   ]
  },
  {
   "cell_type": "markdown",
   "metadata": {},
   "source": [
    "# Debugging\n",
    "\n",
    "Auto-call (i)pdb on uncaught exceptions:"
   ]
  },
  {
   "cell_type": "code",
   "execution_count": null,
   "metadata": {},
   "outputs": [],
   "source": [
    "%pdb"
   ]
  },
  {
   "cell_type": "code",
   "execution_count": null,
   "metadata": {},
   "outputs": [],
   "source": [
    "1 / 0"
   ]
  },
  {
   "cell_type": "code",
   "execution_count": null,
   "metadata": {},
   "outputs": [],
   "source": [
    "pdb"
   ]
  },
  {
   "cell_type": "markdown",
   "metadata": {},
   "source": [
    "Post-mortem debugging"
   ]
  },
  {
   "cell_type": "code",
   "execution_count": null,
   "metadata": {},
   "outputs": [],
   "source": [
    "def myfun():\n",
    "    1 / 0\n",
    "    \n",
    "def otherfun():\n",
    "    myfun()"
   ]
  },
  {
   "cell_type": "code",
   "execution_count": null,
   "metadata": {},
   "outputs": [],
   "source": [
    "myfun()"
   ]
  },
  {
   "cell_type": "code",
   "execution_count": null,
   "metadata": {
    "scrolled": false
   },
   "outputs": [],
   "source": [
    "debug"
   ]
  },
  {
   "cell_type": "code",
   "execution_count": null,
   "metadata": {},
   "outputs": [],
   "source": [
    "def myfun():\n",
    "    import ipdb; ipdb.set_trace()\n",
    "    1 / 0\n",
    "    \n",
    "def otherfun():\n",
    "    myfun()"
   ]
  },
  {
   "cell_type": "code",
   "execution_count": null,
   "metadata": {},
   "outputs": [],
   "source": [
    "otherfun()"
   ]
  },
  {
   "cell_type": "markdown",
   "metadata": {},
   "source": [
    "# Accessing history"
   ]
  },
  {
   "cell_type": "code",
   "execution_count": 27,
   "metadata": {},
   "outputs": [
    {
     "data": {
      "text/plain": [
       "15"
      ]
     },
     "execution_count": 27,
     "metadata": {},
     "output_type": "execute_result"
    }
   ],
   "source": [
    "x = 5\n",
    "y = 10\n",
    "x + y"
   ]
  },
  {
   "cell_type": "code",
   "execution_count": 28,
   "metadata": {},
   "outputs": [
    {
     "data": {
      "text/plain": [
       "435"
      ]
     },
     "execution_count": 28,
     "metadata": {},
     "output_type": "execute_result"
    }
   ],
   "source": [
    "_ * 29"
   ]
  },
  {
   "cell_type": "code",
   "execution_count": 29,
   "metadata": {},
   "outputs": [
    {
     "data": {
      "text/plain": [
       "435"
      ]
     },
     "execution_count": 29,
     "metadata": {},
     "output_type": "execute_result"
    }
   ],
   "source": [
    "x = Out[28]\n",
    "x"
   ]
  },
  {
   "cell_type": "code",
   "execution_count": 30,
   "metadata": {},
   "outputs": [
    {
     "data": {
      "text/plain": [
       "'def foo():'"
      ]
     },
     "execution_count": 30,
     "metadata": {},
     "output_type": "execute_result"
    }
   ],
   "source": [
    "In[1]"
   ]
  },
  {
   "cell_type": "code",
   "execution_count": 31,
   "metadata": {},
   "outputs": [
    {
     "data": {
      "text/plain": [
       "435"
      ]
     },
     "execution_count": 31,
     "metadata": {},
     "output_type": "execute_result"
    }
   ],
   "source": [
    "_29"
   ]
  },
  {
   "cell_type": "code",
   "execution_count": null,
   "metadata": {},
   "outputs": [],
   "source": [
    "%xdel os"
   ]
  },
  {
   "cell_type": "code",
   "execution_count": null,
   "metadata": {},
   "outputs": [],
   "source": [
    "os"
   ]
  },
  {
   "cell_type": "markdown",
   "metadata": {},
   "source": [
    "# Interacting with the file system"
   ]
  },
  {
   "cell_type": "code",
   "execution_count": null,
   "metadata": {},
   "outputs": [],
   "source": [
    "# %load ./test1.py\n",
    "import unittest\n",
    "\n",
    "\n",
    "class MyTest(unittest.TestCase):\n",
    "\n",
    "    def test_pass(self):\n",
    "        pass\n",
    "\n",
    "\n",
    "if __name__ == '__main__':\n",
    "    unittest.main()"
   ]
  },
  {
   "cell_type": "code",
   "execution_count": 32,
   "metadata": {},
   "outputs": [
    {
     "name": "stdout",
     "output_type": "stream",
     "text": [
      "Writing my-little-file.txt\n"
     ]
    }
   ],
   "source": [
    "%%file my-little-file.txt\n",
    "This has my text in it.\n",
    "Even more!\n",
    "\n"
   ]
  },
  {
   "cell_type": "code",
   "execution_count": 34,
   "metadata": {},
   "outputs": [
    {
     "name": "stdout",
     "output_type": "stream",
     "text": [
      "This has my text in it.\r\n",
      "Even more!\r\n",
      "\r\n",
      "This has my text in it.\r\n",
      "Even more!\r\n",
      "\r\n",
      "This has my text in it.\r\n",
      "Even more!\r\n",
      "\r\n"
     ]
    }
   ],
   "source": [
    "%cat my-little-file.txt my-little-file.txt my-little-file.txt"
   ]
  },
  {
   "cell_type": "markdown",
   "metadata": {},
   "source": [
    "# Profiling code"
   ]
  },
  {
   "cell_type": "code",
   "execution_count": null,
   "metadata": {},
   "outputs": [],
   "source": [
    "%%prun\n",
    "x = 5\n",
    "for i in range(100):\n",
    "    x = x ** i"
   ]
  },
  {
   "cell_type": "markdown",
   "metadata": {},
   "source": [
    "# Timing code"
   ]
  },
  {
   "cell_type": "code",
   "execution_count": 37,
   "metadata": {},
   "outputs": [
    {
     "name": "stdout",
     "output_type": "stream",
     "text": [
      "CPU times: user 2.95 ms, sys: 2.41 ms, total: 5.37 ms\n",
      "Wall time: 1.14 s\n"
     ]
    }
   ],
   "source": [
    "%%time \n",
    "import time\n",
    "x = 5\n",
    "for i in range(100):\n",
    "    x = x ** i\n",
    "    time.sleep(0.01)"
   ]
  },
  {
   "cell_type": "code",
   "execution_count": 38,
   "metadata": {},
   "outputs": [
    {
     "name": "stdout",
     "output_type": "stream",
     "text": [
      "30.4 µs ± 237 ns per loop (mean ± std. dev. of 7 runs, 10000 loops each)\n"
     ]
    }
   ],
   "source": [
    "%%timeit\n",
    "x = 5\n",
    "for i in range(100):\n",
    "    x = x ** i"
   ]
  }
 ],
 "metadata": {
  "kernelspec": {
   "display_name": "Python 3",
   "language": "python",
   "name": "python3"
  },
  "language_info": {
   "codemirror_mode": {
    "name": "ipython",
    "version": 3
   },
   "file_extension": ".py",
   "mimetype": "text/x-python",
   "name": "python",
   "nbconvert_exporter": "python",
   "pygments_lexer": "ipython3",
   "version": "3.7.2"
  }
 },
 "nbformat": 4,
 "nbformat_minor": 2
}
